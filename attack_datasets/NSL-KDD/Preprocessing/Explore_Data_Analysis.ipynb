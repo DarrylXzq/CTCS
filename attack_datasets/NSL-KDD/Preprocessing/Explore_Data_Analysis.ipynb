{
 "cells": [
  {
   "cell_type": "code",
   "execution_count": null,
   "id": "initial_id",
   "metadata": {
    "collapsed": true
   },
   "outputs": [],
   "source": [
    "import pandas as pd\n",
    "import numpy as np\n",
    "import matplotlib.pyplot as plt\n",
    "import seaborn as sns\n",
    "from sklearn import metrics\n",
    "import missingno as mn # for missing values visualization\n",
    "from wordcloud import WordCloud as wc # for most highlighted words visualization\n",
    "from wordcloud import STOPWORDS as sw # this will help ignoring english stop words in string value\n",
    "from sklearn.preprocessing import StandardScaler # for stardardizing the data to the normal scale\n",
    "from sklearn.model_selection import train_test_split # for splitting data into train and test\n",
    "from sklearn.tree import DecisionTreeClassifier # Decision Tree model classifier\n",
    "from sklearn.ensemble import RandomForestClassifier # RandomForest model classification\n",
    "from sklearn.linear_model import LogisticRegression # Logistic Regression\n",
    "from sklearn.metrics import classification_report,confusion_matrix # classification report purposes\n",
    "# import warnings\n",
    "# warnings.filterwarnings(\"ignore\")"
   ]
  },
  {
   "cell_type": "code",
   "execution_count": null,
   "outputs": [],
   "source": [
    "# 加载数据\n",
    "file_path_train = r\"D:\\Download\\zyFile\\Cyberthreat_Cognitive_System\\CTCS_Code\\attack_datasets\\NSL-KDD\\KDDTrain+.txt\"\n",
    "file_path_test = r\"D:\\Download\\zyFile\\Cyberthreat_Cognitive_System\\CTCS_Code\\attack_datasets\\NSL-KDD\\KDDTest+.txt\"\n",
    "# 定义列名\n",
    "data_columns = [\"duration\", \"protocol_type\", \"service\", \"flag\", \"src_bytes\",\n",
    "                \"dst_bytes\", \"land\", \"wrong_fragment\", \"urgent\", \"hot\", \"num_failed_logins\",\n",
    "                \"logged_in\", \"num_compromised\", \"root_shell\", \"su_attempted\", \"num_root\",\n",
    "                \"num_file_creations\", \"num_shells\", \"num_access_files\", \"num_outbound_cmds\",\n",
    "                \"is_host_login\", \"is_guest_login\", \"count\", \"srv_count\", \"serror_rate\",\n",
    "                \"srv_serror_rate\", \"rerror_rate\", \"srv_rerror_rate\", \"same_srv_rate\",\n",
    "                \"diff_srv_rate\", \"srv_diff_host_rate\", \"dst_host_count\", \"dst_host_srv_count\",\n",
    "                \"dst_host_same_srv_rate\", \"dst_host_diff_srv_rate\", \"dst_host_same_src_port_rate\",\n",
    "                \"dst_host_srv_diff_host_rate\", \"dst_host_serror_rate\", \"dst_host_srv_serror_rate\",\n",
    "                \"dst_host_rerror_rate\", \"dst_host_srv_rerror_rate\", \"label\", \"difficulty\"]\n",
    "# 加载数据\n",
    "train_data = pd.read_csv(file_path_train, header=None, names=data_columns)\n",
    "test_data = pd.read_csv(file_path_test, header=None, names=data_columns)"
   ],
   "metadata": {
    "collapsed": false
   },
   "id": "1767f65682327b5"
  },
  {
   "cell_type": "code",
   "execution_count": null,
   "outputs": [],
   "source": [
    "train_data"
   ],
   "metadata": {
    "collapsed": false
   },
   "id": "aee52c73e3d645d9"
  },
  {
   "cell_type": "code",
   "execution_count": null,
   "outputs": [],
   "source": [
    "test_data"
   ],
   "metadata": {
    "collapsed": false
   },
   "id": "44ac4314b04593bf"
  },
  {
   "cell_type": "code",
   "execution_count": null,
   "outputs": [],
   "source": [
    "train_data.info()\n",
    "test_data.info()"
   ],
   "metadata": {
    "collapsed": false
   },
   "id": "7918889f67ef6d44"
  },
  {
   "cell_type": "code",
   "execution_count": null,
   "outputs": [],
   "source": [
    "train_data.isnull().sum()\n",
    "test_data.isnull().sum()"
   ],
   "metadata": {
    "collapsed": false
   },
   "id": "f57f93c7e40e2748"
  },
  {
   "cell_type": "code",
   "execution_count": null,
   "outputs": [],
   "source": [
    "mn.bar(train_data, color='yellowgreen', figsize = (20,15))"
   ],
   "metadata": {
    "collapsed": false
   },
   "id": "f2cc3865ec1c0926"
  },
  {
   "cell_type": "code",
   "execution_count": null,
   "outputs": [],
   "source": [
    "mn.bar(test_data, color = 'lightskyblue', figsize = (20,15))"
   ],
   "metadata": {
    "collapsed": false
   },
   "id": "117c03682f31dc95"
  },
  {
   "cell_type": "code",
   "execution_count": null,
   "outputs": [],
   "source": [
    "classLabel_counts = train_data.groupby(['label']).size()\n",
    "per_classLabels = classLabel_counts/train_data.shape[0]*100\n",
    "fig = plt.figure(figsize = (20,10))\n",
    "r_ = [round(each, 2) for each in per_classLabels.values]\n",
    "ax = fig.add_subplot(111)\n",
    "ax.bar(per_classLabels.index, per_classLabels.values, color = ['#413E85', '#30688D', '#1F928B', '#35B777', '#91D542', '#F8E620'], edgecolor = 'black')\n",
    "ax.set_xticklabels(per_classLabels.index, rotation = 45)\n",
    "ax.set_xlabel(\"KDDTrain+ dataset attack Name\", fontsize = 20)\n",
    "ax.set_ylabel(\"Percentage\", fontsize = 20)\n",
    "ax.set_title(\"KDDTrain+ dataset attack label percentage\", fontsize = 20)\n",
    "#44045A\n",
    "#413E85\n",
    "#30688D\n",
    "#1F928B\n",
    "#35B777\n",
    "#91D542\n",
    "#F8E620\n",
    "for i in range(len(per_classLabels.values)):\n",
    "    plt.annotate(f\"{r_[i]}%\", xy=(per_classLabels.index[i],per_classLabels.values[i]+0.5), ha='center', va='bottom') \n",
    "plt.show()"
   ],
   "metadata": {
    "collapsed": false
   },
   "id": "ed98882096b1addc"
  },
  {
   "cell_type": "code",
   "execution_count": null,
   "outputs": [],
   "source": [
    "classLabel_counts = test_data.groupby(['label']).size()\n",
    "per_classLabels = classLabel_counts/test_data.shape[0]*100\n",
    "fig = plt.figure(figsize = (20,10))\n",
    "r_ = [round(each, 2) for each in per_classLabels.values]\n",
    "ax = fig.add_subplot(111)\n",
    "ax.bar(per_classLabels.index, per_classLabels.values, color = ['#413E85', '#30688D', '#1F928B', '#35B777', '#91D542', '#F8E620'], edgecolor = 'black')\n",
    "ax.set_xticklabels(per_classLabels.index, rotation = 45)\n",
    "ax.set_xlabel(\"KDDTest+ dataset attack Name\", fontsize = 20)\n",
    "ax.set_ylabel(\"Percentage\", fontsize = 20)\n",
    "ax.set_title(\"KDDTest+ dataset attack label percentage\", fontsize = 20)\n",
    "\n",
    "for i in range(len(per_classLabels.values)):\n",
    "    plt.annotate(f\"{r_[i]}%\", xy=(per_classLabels.index[i],per_classLabels.values[i]+0.5), ha='center', va='bottom') \n",
    "plt.show()  "
   ],
   "metadata": {
    "collapsed": false
   },
   "id": "e0d414d9ba1ecd8e"
  },
  {
   "cell_type": "code",
   "execution_count": null,
   "outputs": [],
   "source": [
    "attack_mapping = {}\n",
    "with open(r'D:\\Download\\zyFile\\Cyberthreat_Cognitive_System\\CTCS_Code\\attack_datasets\\NSL-KDD\\attack_name',\n",
    "          'r') as file:\n",
    "    for line in file:\n",
    "        parts = line.strip().split(' ')\n",
    "        if len(parts) == 2:\n",
    "            attack, category = parts\n",
    "            attack_mapping[attack] = category\n",
    "# 然后像之前那样使用这个映射字典\n",
    "train_data['label'] = train_data['label'].map(attack_mapping)\n",
    "test_data['label'] = test_data['label'].map(attack_mapping)"
   ],
   "metadata": {
    "collapsed": false
   },
   "id": "1a2f5748f80b2358"
  },
  {
   "cell_type": "code",
   "execution_count": null,
   "outputs": [],
   "source": [
    "# 计算每个标签的百分比\n",
    "percent_data = (train_data.groupby('label').size()) / train_data.shape[0] * 100\n",
    "# 定义自定义排序的顺序\n",
    "custom_order = ['normal', 'dos', 'probe', 'r2l', 'u2r']\n",
    "# 对 percent_data 进行重新排序以匹配自定义顺序\n",
    "percent_data = percent_data.loc[custom_order]\n",
    "# 获取每个标签的具体数量\n",
    "count_data = train_data.groupby('label').size().loc[custom_order]\n",
    "# 准备绘图\n",
    "fig = plt.figure(figsize=(10, 8))\n",
    "ax = fig.add_subplot(111)\n",
    "# 绘制条形图\n",
    "ax.bar(percent_data.index, percent_data.values, color=['#30688D', '#1F928B', '#35B777', '#91D542', '#F8E620'], edgecolor='black')\n",
    "# 设置轴标签和标题\n",
    "ax.set_xticklabels(percent_data.index, rotation=45)\n",
    "ax.set_xlabel(\"KDDTrain+ dataset attack type\", fontsize=20)\n",
    "ax.set_ylabel(\"Percentage\", fontsize=20)\n",
    "ax.set_title(\"KDDTrain+ dataset attack type and percentage\", fontsize=20)\n",
    "# 在每个条形上方添加百分比和具体数量\n",
    "for i, (label, value) in enumerate(percent_data.items()):\n",
    "    ax.annotate(f\"{count_data[label]} ({value:.2f}%)\", \n",
    "                xy=(i, value), ha='center', va='bottom')\n",
    "# 显示图表\n",
    "plt.show()"
   ],
   "metadata": {
    "collapsed": false
   },
   "id": "45d3558d74314445"
  },
  {
   "cell_type": "code",
   "execution_count": null,
   "outputs": [],
   "source": [
    "# 计算每个标签的百分比\n",
    "percent_data = (test_data.groupby('label').size()) / test_data.shape[0] * 100\n",
    "# 获取每个标签的具体数量\n",
    "count_data = test_data.groupby('label').size()\n",
    "# 定义自定义排序的顺序\n",
    "custom_order = ['normal', 'dos', 'probe', 'r2l', 'u2r']\n",
    "# 对 percent_data 进行重新排序以匹配自定义顺序\n",
    "percent_data = percent_data.loc[custom_order]\n",
    "count_data = count_data.loc[custom_order]\n",
    "# 准备绘图\n",
    "fig = plt.figure(figsize=(10, 8))\n",
    "ax = fig.add_subplot(111)\n",
    "# 绘制条形图\n",
    "ax.bar(percent_data.index, percent_data.values, color=['#30688D', '#1F928B', '#35B777', '#91D542', '#F8E620'], edgecolor='black')\n",
    "# 设置轴标签和标题\n",
    "ax.set_xticklabels(percent_data.index, rotation=45)\n",
    "ax.set_xlabel(\"KDDTest+ dataset attack type\", fontsize=20)\n",
    "ax.set_ylabel(\"Percentage\", fontsize=20)\n",
    "ax.set_title(\"KDDTest+ dataset attack type and percentage\", fontsize=20)\n",
    "# 在每个条形上方添加具体数量和百分比\n",
    "for i, label in enumerate(custom_order):\n",
    "    count = count_data[label]\n",
    "    percentage = r_[i]\n",
    "    ax.annotate(f\"{count} ({percentage}%)\", xy=(i, percent_data[label]+0.5), ha='center', va='bottom')\n",
    "# 显示图表\n",
    "plt.show()"
   ],
   "metadata": {
    "collapsed": false
   },
   "id": "1b92ba35d58c0f32"
  },
  {
   "cell_type": "code",
   "execution_count": null,
   "outputs": [],
   "source": [
    "import matplotlib.pyplot as plt\n",
    "\n",
    "# 计算具体的数量\n",
    "value_counts = train_data['protocol_type'].value_counts(dropna=False)\n",
    "\n",
    "# 绘制条形图\n",
    "plt.subplots(figsize=(10,8))\n",
    "value_counts.plot.bar(color=['#1F928B', '#91D542', '#F8E620'])\n",
    "\n",
    "# 添加横纵标题和图表标题\n",
    "plt.xlabel('Protocol Type', fontsize=14)\n",
    "plt.ylabel('Quantity', fontsize=14)\n",
    "plt.title('KDDTrain+ dataset distribution of Protocol Types', fontsize=16)\n",
    "\n",
    "# 在每个条形上方添加数量\n",
    "for index, value in enumerate(value_counts):\n",
    "    plt.annotate(value, (index, value), textcoords=\"offset points\", xytext=(0,10), ha='center')\n",
    "plt.show()"
   ],
   "metadata": {
    "collapsed": false
   },
   "id": "e6df6472612a9a4c"
  },
  {
   "cell_type": "code",
   "execution_count": null,
   "outputs": [],
   "source": [
    "plt.subplots(figsize=(25,16))\n",
    "train_data['service'].value_counts(normalize = True)\n",
    "train_data['service'].value_counts(dropna = False).plot.bar(color=['#413E85', '#30688D', '#1F928B', '#35B777', '#91D542', '#F8E620'])\n",
    "#413E85\n",
    "#30688D\n",
    "#1F928B\n",
    "#35B777\n",
    "#91D542\n",
    "#F8E620\n",
    "plt.xlabel('Service Type', fontsize=14)\n",
    "plt.ylabel('Quantity', fontsize=14)\n",
    "plt.title('KDDTrain+ dataset of distribution of Service Type', fontsize=16)\n",
    "plt.show()"
   ],
   "metadata": {
    "collapsed": false
   },
   "id": "2201ddbd5da19205"
  },
  {
   "cell_type": "code",
   "execution_count": null,
   "outputs": [],
   "source": [
    "import matplotlib.pyplot as plt\n",
    "\n",
    "# 绘制条形图\n",
    "fig, ax = plt.subplots(figsize=(10,8))\n",
    "value_counts = train_data['flag'].value_counts(dropna=False)\n",
    "value_counts.plot.bar(color=['#413E85', '#30688D', '#1F928B', '#35B777', '#91D542', '#F8E620'], ax=ax)\n",
    "\n",
    "# 添加横纵标题和图表标题\n",
    "ax.set_xlabel('Flag', fontsize=14)\n",
    "ax.set_ylabel('Quantity', fontsize=14)\n",
    "ax.set_title('KDDTrain+ dataset distribution of Flags', fontsize=16)\n",
    "\n",
    "# 在每个条形上方添加具体的数量\n",
    "for index, value in enumerate(value_counts):\n",
    "    ax.text(index, value, str(value), ha='center', va='bottom', fontsize=9)\n",
    "plt.show()"
   ],
   "metadata": {
    "collapsed": false
   },
   "id": "f2f6be75e641cedf"
  },
  {
   "cell_type": "code",
   "execution_count": null,
   "outputs": [],
   "source": [
    "import matplotlib.pyplot as plt\n",
    "\n",
    "# 计算具体的数量\n",
    "value_counts = test_data['protocol_type'].value_counts(dropna=False)\n",
    "\n",
    "# 绘制条形图\n",
    "plt.subplots(figsize=(10,8))\n",
    "value_counts.plot.bar(color=['#1F928B', '#91D542', '#F8E620'])\n",
    "\n",
    "# 添加横纵标题和图表标题\n",
    "plt.xlabel('Protocol Type', fontsize=14)\n",
    "plt.ylabel('Quantity', fontsize=14)\n",
    "plt.title('KDDTest+ dataset distribution of Protocol Types', fontsize=16)\n",
    "\n",
    "# 在每个条形上方添加数量\n",
    "for index, value in enumerate(value_counts):\n",
    "    plt.annotate(value, (index, value), textcoords=\"offset points\", xytext=(0,10), ha='center')\n",
    "plt.show()"
   ],
   "metadata": {
    "collapsed": false
   },
   "id": "505266b86a8a27af"
  },
  {
   "cell_type": "code",
   "execution_count": null,
   "outputs": [],
   "source": [
    "plt.subplots(figsize=(25,16))\n",
    "test_data['service'].value_counts(normalize = True)\n",
    "test_data['service'].value_counts(dropna = False).plot.bar(color=['#413E85', '#30688D', '#1F928B', '#35B777', '#91D542', '#F8E620'])\n",
    "plt.xlabel('Service Type', fontsize=14)\n",
    "plt.ylabel('Quantity', fontsize=14)\n",
    "plt.title('KDDTest+ dataset distribution of Service Type', fontsize=16)\n",
    "plt.show()"
   ],
   "metadata": {
    "collapsed": false
   },
   "id": "28a9c91715044577"
  },
  {
   "cell_type": "code",
   "execution_count": null,
   "outputs": [],
   "source": [
    "import matplotlib.pyplot as plt\n",
    "\n",
    "# 绘制条形图\n",
    "fig, ax = plt.subplots(figsize=(10,8))\n",
    "value_counts = test_data['flag'].value_counts(dropna=False)\n",
    "value_counts.plot.bar(color=['#413E85', '#30688D', '#1F928B', '#35B777', '#91D542', '#F8E620'], ax=ax)\n",
    "\n",
    "# 添加横纵标题和图表标题\n",
    "ax.set_xlabel('Flag', fontsize=14)\n",
    "ax.set_ylabel('Quantity', fontsize=14)\n",
    "ax.set_title('KDDTest+ dataset distribution of Flags', fontsize=16)\n",
    "\n",
    "# 在每个条形上方添加具体的数量\n",
    "for index, value in enumerate(value_counts):\n",
    "    ax.text(index, value, str(value), ha='center', va='bottom', fontsize=9)\n",
    "plt.show()"
   ],
   "metadata": {
    "collapsed": false
   },
   "id": "9b7fd5c8681e2eaa"
  },
  {
   "cell_type": "code",
   "execution_count": null,
   "outputs": [],
   "source": [
    "avg_pro = pd.crosstab(train_data['difficulty'], train_data['label'])\n",
    "# 定义自定义顺序的列表\n",
    "custom_order = ['normal', 'dos', 'probe', 'r2l', 'u2r']\n",
    "# 确保avg_pro中只包含custom_order中的列\n",
    "avg_pro = avg_pro[custom_order]\n",
    "# 计算每个难度等级中，各攻击类型的比例\n",
    "avg_pro_percentage = avg_pro.div(avg_pro.sum(1).astype(float), axis=0)\n",
    "# 绘制堆积条形图\n",
    "avg_pro_percentage.plot(kind='bar', stacked=True, color=['#413E85', '#30688D', '#1F928B', '#35B777', '#F8E620'])\n",
    "# 设置图表标题和轴标签\n",
    "plt.title('Attack Type Difficulty Distribution in KDDTrain+ Dataset', fontsize=20)\n",
    "plt.xlabel('Difficulty Levels', fontsize=20)\n",
    "# 设置图例位置到图表外部的右上角\n",
    "plt.legend(title='Attack type', loc='upper left', bbox_to_anchor=(1,1))\n",
    "# 调整布局以防止x轴标签被截断\n",
    "plt.tight_layout()\n",
    "# 显示图表\n",
    "plt.show()"
   ],
   "metadata": {
    "collapsed": false
   },
   "id": "7309a1626d108947"
  },
  {
   "cell_type": "code",
   "execution_count": null,
   "outputs": [],
   "source": [
    "avg_pro = pd.crosstab(test_data['difficulty'], test_data['label'])\n",
    "# 定义自定义顺序的列表\n",
    "custom_order = ['normal', 'dos', 'probe', 'r2l', 'u2r']\n",
    "# 确保avg_pro中只包含custom_order中的列\n",
    "avg_pro = avg_pro[custom_order]\n",
    "# 计算每个难度等级中，各攻击类型的比例\n",
    "avg_pro_percentage = avg_pro.div(avg_pro.sum(1).astype(float), axis=0)\n",
    "# 绘制堆积条形图\n",
    "avg_pro_percentage.plot(kind='bar', stacked=True, color=['#413E85', '#30688D', '#1F928B', '#35B777', '#F8E620'])\n",
    "# 设置图表标题和轴标签\n",
    "plt.title('Attack Type Difficulty Distribution in KDDTest+ Dataset', fontsize=20)\n",
    "plt.xlabel('Difficulty Levels', fontsize=20)\n",
    "# 设置图例位置到图表外部的右上角\n",
    "plt.legend(title='Attack type', loc='upper left', bbox_to_anchor=(1,1))\n",
    "# 调整布局以防止x轴标签被截断\n",
    "plt.tight_layout()\n",
    "# 显示图表\n",
    "plt.show()"
   ],
   "metadata": {
    "collapsed": false
   },
   "id": "e3739c1dbf7c0b9"
  },
  {
   "cell_type": "code",
   "execution_count": null,
   "outputs": [],
   "source": [],
   "metadata": {
    "collapsed": false
   },
   "id": "2755d7a6076d4395"
  }
 ],
 "metadata": {
  "kernelspec": {
   "name": "tensorflow",
   "language": "python",
   "display_name": "TensorflowPy3.9.16"
  },
  "language_info": {
   "codemirror_mode": {
    "name": "ipython",
    "version": 2
   },
   "file_extension": ".py",
   "mimetype": "text/x-python",
   "name": "python",
   "nbconvert_exporter": "python",
   "pygments_lexer": "ipython2",
   "version": "2.7.6"
  }
 },
 "nbformat": 4,
 "nbformat_minor": 5
}
