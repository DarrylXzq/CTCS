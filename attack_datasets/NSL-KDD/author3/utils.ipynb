{
 "cells": [
  {
   "cell_type": "code",
   "execution_count": 4,
   "metadata": {},
   "outputs": [
    {
     "name": "stdout",
     "output_type": "stream",
     "text": [
      "[[0.27215301 0.01048014 0.52044334 0.06389628 0.59950931]\n",
      " [0.33627256 0.73162297 0.83541017 0.25462713 0.66192773]\n",
      " [0.14247738 0.8289203  0.72738107 0.16414783 0.21911717]\n",
      " [0.97890922 0.67795284 0.3307026  0.18431222 0.96993157]\n",
      " [0.5073107  0.07352013 0.31895193 0.59688031 0.65695777]\n",
      " [0.01845964 0.6771923  0.562302   0.4123248  0.18966236]]\n",
      "[[3]\n",
      " [8]\n",
      " [1]\n",
      " [2]\n",
      " [6]\n",
      " [7]]\n"
     ]
    }
   ],
   "source": [
    "import numpy as np\n",
    "data = np.random.random((6, 5))\n",
    "print(data)\n",
    "labels = np.random.randint(10, size=(6, 1))\n",
    "print(labels)"
   ]
  },
  {
   "cell_type": "code",
   "execution_count": 71,
   "metadata": {},
   "outputs": [
    {
     "name": "stdout",
     "output_type": "stream",
     "text": [
      "['0', 0, 17, 9, '491', '0', '0', '0', '0', '0', '0', '0', '0', '0', '0', '0', '0', '0', '0', '0', '0', '0', '2', '2', '0.00', '0.00', '0.00', '0.00', '1.00', '0.00', '0.00', '150', '25', '0.17', '0.03', '0.17', '0.00', '0.00', '0.00', '0.05', '0.00']\n",
      "0\n"
     ]
    }
   ],
   "source": [
    "import csv\n",
    "all_train_data = []\n",
    "trainX = []\n",
    "trainY = []\n",
    "with open('NSL-KDD/KDDTrain+.txt', newline='') as csvfile:\n",
    "    spamreader = csv.reader(csvfile, delimiter=',')\n",
    "    for row in spamreader:\n",
    "        all_train_data.append(row)\n",
    "for i in all_train_data:\n",
    "    i[1] = protocol_dict[i[1]]\n",
    "    i[2] = service_dict[i[2]]\n",
    "    i[3] = flag_dict[i[3]]\n",
    "    i[-2] = type2id[i[-2]]\n",
    "    trainX.append(i[:41])\n",
    "    trainY.append(i[-2])\n",
    "    \n",
    "print(trainX[0])\n",
    "print(trainY[0])"
   ]
  },
  {
   "cell_type": "code",
   "execution_count": 15,
   "metadata": {},
   "outputs": [
    {
     "name": "stdout",
     "output_type": "stream",
     "text": [
      "['0', 'tcp', 'ftp_data', 'SF', '491', '0', '0', '0', '0', '0', '0', '0', '0', '0', '0', '0', '0', '0', '0', '0', '0', '0', '2', '2', '0.00', '0.00', '0.00', '0.00', '1.00', '0.00', '0.00', '150', '25', '0.17', '0.03', '0.17', '0.00', '0.00', '0.00', '0.05', '0.00', 'normal', '20']\n",
      "{'buffer_overflow', 'portsweep', 'warezclient', 'satan', 'nmap', 'neptune', 'guess_passwd', 'ftp_write', 'smurf', 'perl', 'imap', 'phf', 'rootkit', 'teardrop', 'warezmaster', 'multihop', 'pod', 'loadmodule', 'back', 'normal', 'spy', 'ipsweep', 'land'}\n"
     ]
    }
   ],
   "source": [
    "#all_train_data[0][1] = 'tcp'\n",
    "print(all_train_data[0])\n",
    "all_label = []\n",
    "for i in all_train_data:\n",
    "    all_label.append(i[41])\n",
    "print(set(all_label))"
   ]
  },
  {
   "cell_type": "code",
   "execution_count": 33,
   "metadata": {},
   "outputs": [],
   "source": [
    "import pandas as pd\n",
    "all_test_data = pd.read_csv('NSL-KDD/KDDTest+.txt', header=None)"
   ]
  },
  {
   "cell_type": "code",
   "execution_count": 17,
   "metadata": {},
   "outputs": [
    {
     "name": "stdout",
     "output_type": "stream",
     "text": [
      "['0', 'tcp', 'private', 'REJ', '0', '0', '0', '0', '0', '0', '0', '0', '0', '0', '0', '0', '0', '0', '0', '0', '0', '0', '229', '10', '0.00', '0.00', '1.00', '1.00', '0.04', '0.06', '0.00', '255', '10', '0.04', '0.06', '0.00', '0.00', '0.00', '0.00', '1.00', '1.00', 'neptune', '21']\n",
      "{'buffer_overflow', 'mscan', 'portsweep', 'land', 'sqlattack', 'satan', 'udpstorm', 'nmap', 'neptune', 'guess_passwd', 'worm', 'ftp_write', 'smurf', 'xterm', 'snmpgetattack', 'perl', 'processtable', 'imap', 'phf', 'rootkit', 'snmpguess', 'teardrop', 'sendmail', 'warezmaster', 'ps', 'httptunnel', 'multihop', 'pod', 'loadmodule', 'saint', 'mailbomb', 'back', 'xsnoop', 'normal', 'named', 'xlock', 'ipsweep', 'apache2'}\n"
     ]
    }
   ],
   "source": [
    "print(all_test_data[0])\n",
    "all_label_tesr = []\n",
    "for i in all_test_data:\n",
    "    all_label_tesr.append(i[41])\n",
    "print(set(all_label_tesr))"
   ]
  },
  {
   "cell_type": "code",
   "execution_count": 29,
   "metadata": {},
   "outputs": [
    {
     "name": "stdout",
     "output_type": "stream",
     "text": [
      "70\n",
      "11\n"
     ]
    }
   ],
   "source": [
    "all_protocol = ['tcp', 'udp', 'icmp']\n",
    "protocol_dict = {}\n",
    "for id,name in enumerate(all_protocol):\n",
    "    protocol_dict[name] = id\n",
    "\n",
    "all_service = ['aol', 'auth', 'bgp', 'courier', 'csnet_ns', 'ctf', 'daytime', 'discard', 'domain', 'domain_u', 'echo', 'eco_i', 'ecr_i', 'efs', 'exec', 'finger', 'ftp', 'ftp_data', 'gopher', 'harvest', 'hostnames', 'http', 'http_2784', 'http_443', 'http_8001', 'imap4', 'IRC', 'iso_tsap', 'klogin', 'kshell', 'ldap', 'link', 'login', 'mtp', 'name', 'netbios_dgm', 'netbios_ns', 'netbios_ssn', 'netstat', 'nnsp', 'nntp', 'ntp_u', 'other', 'pm_dump', 'pop_2', 'pop_3', 'printer', 'private', 'red_i', 'remote_job', 'rje', 'shell', 'smtp', 'sql_net', 'ssh', 'sunrpc', 'supdup', 'systat', 'telnet', 'tftp_u', 'tim_i', 'time', 'urh_i', 'urp_i', 'uucp', 'uucp_path', 'vmnet', 'whois', 'X11', 'Z39_50']\n",
    "print(len(all_service))\n",
    "service_dict = {}\n",
    "for id,name in enumerate(all_service):\n",
    "    service_dict[name] = id\n",
    "    \n",
    "all_flag = ['OTH', 'REJ', 'RSTO', 'RSTOS0', 'RSTR', 'S0', 'S1', 'S2', 'S3', 'SF', 'SH']\n",
    "print(len(all_flag))\n",
    "flag_dict = {}\n",
    "for id,name in enumerate(all_flag):\n",
    "    flag_dict[name] = id"
   ]
  },
  {
   "cell_type": "code",
   "execution_count": 62,
   "metadata": {},
   "outputs": [
    {
     "name": "stderr",
     "output_type": "stream",
     "text": [
      "/home/2018110176/.local/lib/python3.5/site-packages/sklearn/utils/validation.py:532: FutureWarning: Beginning in version 0.22, arrays of bytes/strings will be converted to decimal numbers if dtype='numeric'. It is recommended that you convert the array to a float dtype before using it in scikit-learn, for example by using your_array = your_array.astype(np.float64).\n",
      "  FutureWarning)\n",
      "/home/2018110176/.local/lib/python3.5/site-packages/sklearn/utils/validation.py:532: FutureWarning: Beginning in version 0.22, arrays of bytes/strings will be converted to decimal numbers if dtype='numeric'. It is recommended that you convert the array to a float dtype before using it in scikit-learn, for example by using your_array = your_array.astype(np.float64).\n",
      "  FutureWarning)\n"
     ]
    }
   ],
   "source": [
    "from sklearn.preprocessing import Normalizer\n",
    "scaler = Normalizer().fit(trainX)\n",
    "trainX = scaler.transform(trainX)"
   ]
  },
  {
   "cell_type": "code",
   "execution_count": 66,
   "metadata": {},
   "outputs": [
    {
     "name": "stdout",
     "output_type": "stream",
     "text": [
      "[[0.00000000e+00 0.00000000e+00 3.30496041e-02 1.74968492e-02\n",
      "  9.54550330e-01 0.00000000e+00 0.00000000e+00 0.00000000e+00\n",
      "  0.00000000e+00 0.00000000e+00 0.00000000e+00 0.00000000e+00\n",
      "  0.00000000e+00 0.00000000e+00 0.00000000e+00 0.00000000e+00\n",
      "  0.00000000e+00 0.00000000e+00 0.00000000e+00 0.00000000e+00\n",
      "  0.00000000e+00 0.00000000e+00 3.88818872e-03 3.88818872e-03\n",
      "  0.00000000e+00 0.00000000e+00 0.00000000e+00 0.00000000e+00\n",
      "  1.94409436e-03 0.00000000e+00 0.00000000e+00 2.91614154e-01\n",
      "  4.86023590e-02 3.30496041e-04 5.83228308e-05 3.30496041e-04\n",
      "  0.00000000e+00 0.00000000e+00 0.00000000e+00 9.72047180e-05\n",
      "  0.00000000e+00]]\n",
      "['0', 0, 17, 9, '491', '0', '0', '0', '0', '0', '0', '0', '0', '0', '0', '0', '0', '0', '0', '0', '0', '0', '2', '2', '0.00', '0.00', '0.00', '0.00', '1.00', '0.00', '0.00', '150', '25', '0.17', '0.03', '0.17', '0.00', '0.00', '0.00', '0.05', '0.00']\n"
     ]
    },
    {
     "name": "stderr",
     "output_type": "stream",
     "text": [
      "/home/2018110176/.local/lib/python3.5/site-packages/sklearn/utils/validation.py:532: FutureWarning: Beginning in version 0.22, arrays of bytes/strings will be converted to decimal numbers if dtype='numeric'. It is recommended that you convert the array to a float dtype before using it in scikit-learn, for example by using your_array = your_array.astype(np.float64).\n",
      "  FutureWarning)\n"
     ]
    }
   ],
   "source": [
    "\n",
    "print(scaler.transform([trainX[0]]))\n",
    "print(trainX[0])"
   ]
  },
  {
   "cell_type": "code",
   "execution_count": 70,
   "metadata": {},
   "outputs": [],
   "source": [
    "dos_type = ['back','land','neptune','pod','smurf','teardrop']\n",
    "probing_type = ['ipsweep','nmap','portsweep','satan']\n",
    "r2l_type = ['ftp_write','guess_passwd','imap','multihop','phf','spy','warezclient','warezmaster']\n",
    "u2r_type = ['buffer_overflow','loadmodule','perl','rootkit']\n",
    "type2id = {'normal':0}\n",
    "for i in dos_type:\n",
    "    type2id[i] = 1\n",
    "for i in r2l_type:\n",
    "    type2id[i] = 2\n",
    "for i in u2r_type:\n",
    "    type2id[i] = 3\n",
    "for i in probing_type:\n",
    "    type2id[i] = 4"
   ]
  },
  {
   "cell_type": "code",
   "execution_count": null,
   "metadata": {},
   "outputs": [],
   "source": []
  }
 ],
 "metadata": {
  "kernelspec": {
   "display_name": "Python 3",
   "language": "python",
   "name": "python3"
  },
  "language_info": {
   "codemirror_mode": {
    "name": "ipython",
    "version": 3
   },
   "file_extension": ".py",
   "mimetype": "text/x-python",
   "name": "python",
   "nbconvert_exporter": "python",
   "pygments_lexer": "ipython3",
   "version": "3.5.2"
  }
 },
 "nbformat": 4,
 "nbformat_minor": 2
}
