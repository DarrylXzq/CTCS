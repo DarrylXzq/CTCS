{
 "cells": [
  {
   "cell_type": "code",
   "execution_count": 20,
   "metadata": {
    "ExecuteTime": {
     "end_time": "2023-12-23T04:22:39.563576900Z",
     "start_time": "2023-12-23T04:22:39.548018300Z"
    }
   },
   "outputs": [],
   "source": [
    "import pandas as pd\n",
    "from sklearn import preprocessing\n",
    "from sklearn.decomposition import PCA\n",
    "import numpy as np\n",
    "from sklearn.preprocessing import StandardScaler\n",
    "import matplotlib.pyplot as plt\n",
    "import seaborn as sns"
   ]
  },
  {
   "cell_type": "code",
   "execution_count": 21,
   "metadata": {
    "ExecuteTime": {
     "end_time": "2023-12-23T04:22:39.812192Z",
     "start_time": "2023-12-23T04:22:39.796512800Z"
    }
   },
   "outputs": [],
   "source": [
    "# 加载数据\n",
    "file_path_train = r\"D:\\Download\\zyFile\\Cyberthreat_Cognitive_System\\CTCS_Code\\attack_datasets\\NSL-KDD\\KDDTrain+.txt\"\n",
    "file_path_test = r\"D:\\Download\\zyFile\\Cyberthreat_Cognitive_System\\CTCS_Code\\attack_datasets\\NSL-KDD\\KDDTest+.txt\"\n",
    "# 定义列名\n",
    "data_columns = [\"duration\", \"protocol_type\", \"service\", \"flag\", \"src_bytes\",\n",
    "                \"dst_bytes\", \"land\", \"wrong_fragment\", \"urgent\", \"hot\", \"num_failed_logins\",\n",
    "                \"logged_in\", \"num_compromised\", \"root_shell\", \"su_attempted\", \"num_root\",\n",
    "                \"num_file_creations\", \"num_shells\", \"num_access_files\", \"num_outbound_cmds\",\n",
    "                \"is_host_login\", \"is_guest_login\", \"count\", \"srv_count\", \"serror_rate\",\n",
    "                \"srv_serror_rate\", \"rerror_rate\", \"srv_rerror_rate\", \"same_srv_rate\",\n",
    "                \"diff_srv_rate\", \"srv_diff_host_rate\", \"dst_host_count\", \"dst_host_srv_count\",\n",
    "                \"dst_host_same_srv_rate\", \"dst_host_diff_srv_rate\", \"dst_host_same_src_port_rate\",\n",
    "                \"dst_host_srv_diff_host_rate\", \"dst_host_serror_rate\", \"dst_host_srv_serror_rate\",\n",
    "                \"dst_host_rerror_rate\", \"dst_host_srv_rerror_rate\", \"label\", \"difficulty\"]\n",
    "# 加载数据\n",
    "train_data = pd.read_csv(file_path_train, header=None, names=data_columns)\n",
    "test_data= pd.read_csv(file_path_test, header=None, names=data_columns)"
   ]
  },
  {
   "cell_type": "code",
   "execution_count": 23,
   "outputs": [
    {
     "name": "stdout",
     "output_type": "stream",
     "text": [
      "0          normal\n",
      "1          normal\n",
      "2         neptune\n",
      "3          normal\n",
      "4          normal\n",
      "           ...   \n",
      "125968    neptune\n",
      "125969     normal\n",
      "125970     normal\n",
      "125971    neptune\n",
      "125972     normal\n",
      "Name: label, Length: 125973, dtype: object\n"
     ]
    }
   ],
   "source": [
    "print(train_data['label'])"
   ],
   "metadata": {
    "collapsed": false,
    "ExecuteTime": {
     "end_time": "2023-12-23T04:22:40.990104700Z",
     "start_time": "2023-12-23T04:22:40.958840900Z"
    }
   }
  },
  {
   "cell_type": "code",
   "execution_count": 24,
   "outputs": [],
   "source": [
    "attack_mapping = {}\n",
    "with open(r'D:\\Download\\zyFile\\Cyberthreat_Cognitive_System\\CTCS_Code\\attack_datasets\\NSL-KDD\\attack_name', 'r') as file:\n",
    "    for line in file:\n",
    "        parts = line.strip().split(' ')\n",
    "        if len(parts) == 2:\n",
    "            attack, category = parts\n",
    "            attack_mapping[attack] = category\n",
    "# 然后像之前那样使用这个映射字典\n",
    "train_data['label'] = train_data['label'].map(attack_mapping)\n",
    "test_data['label'] = test_data['label'].map(attack_mapping)"
   ],
   "metadata": {
    "collapsed": false,
    "ExecuteTime": {
     "end_time": "2023-12-23T04:22:44.834120700Z",
     "start_time": "2023-12-23T04:22:44.812638700Z"
    }
   }
  },
  {
   "cell_type": "code",
   "execution_count": 25,
   "outputs": [
    {
     "name": "stdout",
     "output_type": "stream",
     "text": [
      "0         normal\n",
      "1         normal\n",
      "2            dos\n",
      "3         normal\n",
      "4         normal\n",
      "           ...  \n",
      "125968       dos\n",
      "125969    normal\n",
      "125970    normal\n",
      "125971       dos\n",
      "125972    normal\n",
      "Name: label, Length: 125973, dtype: object\n",
      "<class 'pandas.core.frame.DataFrame'>\n",
      "RangeIndex: 125973 entries, 0 to 125972\n",
      "Data columns (total 43 columns):\n",
      " #   Column                       Non-Null Count   Dtype  \n",
      "---  ------                       --------------   -----  \n",
      " 0   duration                     125973 non-null  int64  \n",
      " 1   protocol_type                125973 non-null  object \n",
      " 2   service                      125973 non-null  object \n",
      " 3   flag                         125973 non-null  object \n",
      " 4   src_bytes                    125973 non-null  int64  \n",
      " 5   dst_bytes                    125973 non-null  int64  \n",
      " 6   land                         125973 non-null  int64  \n",
      " 7   wrong_fragment               125973 non-null  int64  \n",
      " 8   urgent                       125973 non-null  int64  \n",
      " 9   hot                          125973 non-null  int64  \n",
      " 10  num_failed_logins            125973 non-null  int64  \n",
      " 11  logged_in                    125973 non-null  int64  \n",
      " 12  num_compromised              125973 non-null  int64  \n",
      " 13  root_shell                   125973 non-null  int64  \n",
      " 14  su_attempted                 125973 non-null  int64  \n",
      " 15  num_root                     125973 non-null  int64  \n",
      " 16  num_file_creations           125973 non-null  int64  \n",
      " 17  num_shells                   125973 non-null  int64  \n",
      " 18  num_access_files             125973 non-null  int64  \n",
      " 19  num_outbound_cmds            125973 non-null  int64  \n",
      " 20  is_host_login                125973 non-null  int64  \n",
      " 21  is_guest_login               125973 non-null  int64  \n",
      " 22  count                        125973 non-null  int64  \n",
      " 23  srv_count                    125973 non-null  int64  \n",
      " 24  serror_rate                  125973 non-null  float64\n",
      " 25  srv_serror_rate              125973 non-null  float64\n",
      " 26  rerror_rate                  125973 non-null  float64\n",
      " 27  srv_rerror_rate              125973 non-null  float64\n",
      " 28  same_srv_rate                125973 non-null  float64\n",
      " 29  diff_srv_rate                125973 non-null  float64\n",
      " 30  srv_diff_host_rate           125973 non-null  float64\n",
      " 31  dst_host_count               125973 non-null  int64  \n",
      " 32  dst_host_srv_count           125973 non-null  int64  \n",
      " 33  dst_host_same_srv_rate       125973 non-null  float64\n",
      " 34  dst_host_diff_srv_rate       125973 non-null  float64\n",
      " 35  dst_host_same_src_port_rate  125973 non-null  float64\n",
      " 36  dst_host_srv_diff_host_rate  125973 non-null  float64\n",
      " 37  dst_host_serror_rate         125973 non-null  float64\n",
      " 38  dst_host_srv_serror_rate     125973 non-null  float64\n",
      " 39  dst_host_rerror_rate         125973 non-null  float64\n",
      " 40  dst_host_srv_rerror_rate     125973 non-null  float64\n",
      " 41  label                        125973 non-null  object \n",
      " 42  difficulty                   125973 non-null  int64  \n",
      "dtypes: float64(15), int64(24), object(4)\n",
      "memory usage: 41.3+ MB\n"
     ]
    }
   ],
   "source": [
    "print(train_data['label'])\n",
    "train_data.info()"
   ],
   "metadata": {
    "collapsed": false,
    "ExecuteTime": {
     "end_time": "2023-12-23T04:22:45.270104100Z",
     "start_time": "2023-12-23T04:22:45.236746600Z"
    }
   }
  },
  {
   "cell_type": "code",
   "execution_count": 28,
   "outputs": [
    {
     "name": "stdout",
     "output_type": "stream",
     "text": [
      "service type only exist in train_dataset: {'urh_i', 'http_2784', 'aol', 'http_8001', 'harvest', 'red_i'}\n",
      "protocol type only exist in train_dataset: set()\n",
      "flag type only exist in train_dataset: set()\n",
      "label type only exist in train_dataset: set()\n",
      "-------------------------------------------------------\n",
      "service type only exist in test_dataset: set()\n",
      "protocol type only exist in test_dataset: set()\n",
      "flag type only exist in test_dataset: set()\n",
      "label type only exist in test_dataset: set()\n"
     ]
    }
   ],
   "source": [
    "# 获取训练集和测试集中的 'service' 列\n",
    "service_train = train_data['service']\n",
    "service_test = test_data['service']\n",
    "\n",
    "protocol_type_train = train_data['protocol_type']\n",
    "protocol_type_test = test_data['protocol_type']\n",
    "\n",
    "flag_train = train_data['flag']\n",
    "flag_test = test_data['flag']\n",
    "\n",
    "label_train = train_data['label']\n",
    "label_test = test_data['label']\n",
    "\n",
    "# 找出只在训练集中出现的 service 类型\n",
    "unique_service = set(service_train) - set(service_test)\n",
    "unique_protocol_type = set(protocol_type_train) - set(protocol_type_test)\n",
    "unique_flag = set(flag_train) - set(flag_test)\n",
    "unique_label = set(label_train) - set(label_test)\n",
    "\n",
    "test_unique_service = set(service_test) - set(service_train)\n",
    "test_unique_protocol_type = set(protocol_type_test) - set(protocol_type_train)\n",
    "test_unique_flag = set(flag_test) - set(flag_train)\n",
    "test_unique_label = set(label_test) - set(label_train)\n",
    "\n",
    "# 输出结果\n",
    "print(\"service type only exist in train_dataset:\", unique_service)\n",
    "print(\"protocol type only exist in train_dataset:\", unique_protocol_type)\n",
    "print(\"flag type only exist in train_dataset:\", unique_flag)\n",
    "print(\"label type only exist in train_dataset:\", unique_label)\n",
    "print(\"-------------------------------------------------------\")\n",
    "print(\"service type only exist in test_dataset:\", test_unique_service)\n",
    "print(\"protocol type only exist in test_dataset:\", test_unique_protocol_type)\n",
    "print(\"flag type only exist in test_dataset:\", test_unique_flag)\n",
    "print(\"label type only exist in test_dataset:\", test_unique_label)"
   ],
   "metadata": {
    "collapsed": false,
    "ExecuteTime": {
     "end_time": "2023-12-23T03:54:00.330654400Z",
     "start_time": "2023-12-23T03:54:00.276872900Z"
    }
   }
  },
  {
   "cell_type": "code",
   "execution_count": 26,
   "outputs": [
    {
     "name": "stdout",
     "output_type": "stream",
     "text": [
      "Number of occurrences for service 'urh_i': 10\n",
      "Number of occurrences for service 'http_2784': 1\n",
      "Number of occurrences for service 'aol': 2\n",
      "Number of occurrences for service 'http_8001': 2\n",
      "Number of occurrences for service 'harvest': 2\n",
      "Number of occurrences for service 'red_i': 8\n"
     ]
    }
   ],
   "source": [
    "# 定义要检查的服务类型列表\n",
    "services_to_check = ['urh_i', 'http_2784', 'aol', 'http_8001', 'harvest', 'red_i']\n",
    "\n",
    "# 对每种服务类型进行计数\n",
    "for service in services_to_check:\n",
    "    count = (train_data['service'] == service).sum()\n",
    "    print(f\"Number of occurrences for service '{service}': {count}\")"
   ],
   "metadata": {
    "collapsed": false,
    "ExecuteTime": {
     "end_time": "2023-12-23T04:31:56.239326500Z",
     "start_time": "2023-12-23T04:31:56.192076700Z"
    }
   }
  },
  {
   "cell_type": "code",
   "execution_count": 27,
   "outputs": [
    {
     "data": {
      "text/plain": "   duration protocol_type   service  flag  src_bytes  dst_bytes  land  \\\n0         0           tcp   private   REJ          0          0     0   \n1         0           tcp   private   REJ          0          0     0   \n2         2           tcp  ftp_data    SF      12983          0     0   \n3         0          icmp     eco_i    SF         20          0     0   \n4         1           tcp    telnet  RSTO          0         15     0   \n\n   wrong_fragment  urgent  hot  ...  dst_host_same_srv_rate  \\\n0               0       0    0  ...                    0.04   \n1               0       0    0  ...                    0.00   \n2               0       0    0  ...                    0.61   \n3               0       0    0  ...                    1.00   \n4               0       0    0  ...                    0.31   \n\n   dst_host_diff_srv_rate  dst_host_same_src_port_rate  \\\n0                    0.06                         0.00   \n1                    0.06                         0.00   \n2                    0.04                         0.61   \n3                    0.00                         1.00   \n4                    0.17                         0.03   \n\n   dst_host_srv_diff_host_rate  dst_host_serror_rate  \\\n0                         0.00                   0.0   \n1                         0.00                   0.0   \n2                         0.02                   0.0   \n3                         0.28                   0.0   \n4                         0.02                   0.0   \n\n   dst_host_srv_serror_rate  dst_host_rerror_rate  dst_host_srv_rerror_rate  \\\n0                       0.0                  1.00                      1.00   \n1                       0.0                  1.00                      1.00   \n2                       0.0                  0.00                      0.00   \n3                       0.0                  0.00                      0.00   \n4                       0.0                  0.83                      0.71   \n\n    label  difficulty  \n0     dos          21  \n1     dos          21  \n2  normal          21  \n3   probe          15  \n4   probe          11  \n\n[5 rows x 43 columns]",
      "text/html": "<div>\n<style scoped>\n    .dataframe tbody tr th:only-of-type {\n        vertical-align: middle;\n    }\n\n    .dataframe tbody tr th {\n        vertical-align: top;\n    }\n\n    .dataframe thead th {\n        text-align: right;\n    }\n</style>\n<table border=\"1\" class=\"dataframe\">\n  <thead>\n    <tr style=\"text-align: right;\">\n      <th></th>\n      <th>duration</th>\n      <th>protocol_type</th>\n      <th>service</th>\n      <th>flag</th>\n      <th>src_bytes</th>\n      <th>dst_bytes</th>\n      <th>land</th>\n      <th>wrong_fragment</th>\n      <th>urgent</th>\n      <th>hot</th>\n      <th>...</th>\n      <th>dst_host_same_srv_rate</th>\n      <th>dst_host_diff_srv_rate</th>\n      <th>dst_host_same_src_port_rate</th>\n      <th>dst_host_srv_diff_host_rate</th>\n      <th>dst_host_serror_rate</th>\n      <th>dst_host_srv_serror_rate</th>\n      <th>dst_host_rerror_rate</th>\n      <th>dst_host_srv_rerror_rate</th>\n      <th>label</th>\n      <th>difficulty</th>\n    </tr>\n  </thead>\n  <tbody>\n    <tr>\n      <th>0</th>\n      <td>0</td>\n      <td>tcp</td>\n      <td>private</td>\n      <td>REJ</td>\n      <td>0</td>\n      <td>0</td>\n      <td>0</td>\n      <td>0</td>\n      <td>0</td>\n      <td>0</td>\n      <td>...</td>\n      <td>0.04</td>\n      <td>0.06</td>\n      <td>0.00</td>\n      <td>0.00</td>\n      <td>0.0</td>\n      <td>0.0</td>\n      <td>1.00</td>\n      <td>1.00</td>\n      <td>dos</td>\n      <td>21</td>\n    </tr>\n    <tr>\n      <th>1</th>\n      <td>0</td>\n      <td>tcp</td>\n      <td>private</td>\n      <td>REJ</td>\n      <td>0</td>\n      <td>0</td>\n      <td>0</td>\n      <td>0</td>\n      <td>0</td>\n      <td>0</td>\n      <td>...</td>\n      <td>0.00</td>\n      <td>0.06</td>\n      <td>0.00</td>\n      <td>0.00</td>\n      <td>0.0</td>\n      <td>0.0</td>\n      <td>1.00</td>\n      <td>1.00</td>\n      <td>dos</td>\n      <td>21</td>\n    </tr>\n    <tr>\n      <th>2</th>\n      <td>2</td>\n      <td>tcp</td>\n      <td>ftp_data</td>\n      <td>SF</td>\n      <td>12983</td>\n      <td>0</td>\n      <td>0</td>\n      <td>0</td>\n      <td>0</td>\n      <td>0</td>\n      <td>...</td>\n      <td>0.61</td>\n      <td>0.04</td>\n      <td>0.61</td>\n      <td>0.02</td>\n      <td>0.0</td>\n      <td>0.0</td>\n      <td>0.00</td>\n      <td>0.00</td>\n      <td>normal</td>\n      <td>21</td>\n    </tr>\n    <tr>\n      <th>3</th>\n      <td>0</td>\n      <td>icmp</td>\n      <td>eco_i</td>\n      <td>SF</td>\n      <td>20</td>\n      <td>0</td>\n      <td>0</td>\n      <td>0</td>\n      <td>0</td>\n      <td>0</td>\n      <td>...</td>\n      <td>1.00</td>\n      <td>0.00</td>\n      <td>1.00</td>\n      <td>0.28</td>\n      <td>0.0</td>\n      <td>0.0</td>\n      <td>0.00</td>\n      <td>0.00</td>\n      <td>probe</td>\n      <td>15</td>\n    </tr>\n    <tr>\n      <th>4</th>\n      <td>1</td>\n      <td>tcp</td>\n      <td>telnet</td>\n      <td>RSTO</td>\n      <td>0</td>\n      <td>15</td>\n      <td>0</td>\n      <td>0</td>\n      <td>0</td>\n      <td>0</td>\n      <td>...</td>\n      <td>0.31</td>\n      <td>0.17</td>\n      <td>0.03</td>\n      <td>0.02</td>\n      <td>0.0</td>\n      <td>0.0</td>\n      <td>0.83</td>\n      <td>0.71</td>\n      <td>probe</td>\n      <td>11</td>\n    </tr>\n  </tbody>\n</table>\n<p>5 rows × 43 columns</p>\n</div>"
     },
     "execution_count": 27,
     "metadata": {},
     "output_type": "execute_result"
    }
   ],
   "source": [
    "# 显示一部分数据\n",
    "train_data.head()"
   ],
   "metadata": {
    "collapsed": false,
    "ExecuteTime": {
     "end_time": "2023-12-23T04:48:02.807728900Z",
     "start_time": "2023-12-23T04:48:02.745888100Z"
    }
   }
  },
  {
   "cell_type": "code",
   "execution_count": 30,
   "outputs": [
    {
     "data": {
      "text/plain": "   duration protocol_type   service  flag  src_bytes  dst_bytes  land  \\\n0         0           tcp   private   REJ          0          0     0   \n1         0           tcp   private   REJ          0          0     0   \n2         2           tcp  ftp_data    SF      12983          0     0   \n3         0          icmp     eco_i    SF         20          0     0   \n4         1           tcp    telnet  RSTO          0         15     0   \n\n   wrong_fragment  urgent  hot  ...  dst_host_same_srv_rate  \\\n0               0       0    0  ...                    0.04   \n1               0       0    0  ...                    0.00   \n2               0       0    0  ...                    0.61   \n3               0       0    0  ...                    1.00   \n4               0       0    0  ...                    0.31   \n\n   dst_host_diff_srv_rate  dst_host_same_src_port_rate  \\\n0                    0.06                         0.00   \n1                    0.06                         0.00   \n2                    0.04                         0.61   \n3                    0.00                         1.00   \n4                    0.17                         0.03   \n\n   dst_host_srv_diff_host_rate  dst_host_serror_rate  \\\n0                         0.00                   0.0   \n1                         0.00                   0.0   \n2                         0.02                   0.0   \n3                         0.28                   0.0   \n4                         0.02                   0.0   \n\n   dst_host_srv_serror_rate  dst_host_rerror_rate  dst_host_srv_rerror_rate  \\\n0                       0.0                  1.00                      1.00   \n1                       0.0                  1.00                      1.00   \n2                       0.0                  0.00                      0.00   \n3                       0.0                  0.00                      0.00   \n4                       0.0                  0.83                      0.71   \n\n    label  difficulty  \n0     dos          21  \n1     dos          21  \n2  normal          21  \n3   probe          15  \n4   probe          11  \n\n[5 rows x 43 columns]",
      "text/html": "<div>\n<style scoped>\n    .dataframe tbody tr th:only-of-type {\n        vertical-align: middle;\n    }\n\n    .dataframe tbody tr th {\n        vertical-align: top;\n    }\n\n    .dataframe thead th {\n        text-align: right;\n    }\n</style>\n<table border=\"1\" class=\"dataframe\">\n  <thead>\n    <tr style=\"text-align: right;\">\n      <th></th>\n      <th>duration</th>\n      <th>protocol_type</th>\n      <th>service</th>\n      <th>flag</th>\n      <th>src_bytes</th>\n      <th>dst_bytes</th>\n      <th>land</th>\n      <th>wrong_fragment</th>\n      <th>urgent</th>\n      <th>hot</th>\n      <th>...</th>\n      <th>dst_host_same_srv_rate</th>\n      <th>dst_host_diff_srv_rate</th>\n      <th>dst_host_same_src_port_rate</th>\n      <th>dst_host_srv_diff_host_rate</th>\n      <th>dst_host_serror_rate</th>\n      <th>dst_host_srv_serror_rate</th>\n      <th>dst_host_rerror_rate</th>\n      <th>dst_host_srv_rerror_rate</th>\n      <th>label</th>\n      <th>difficulty</th>\n    </tr>\n  </thead>\n  <tbody>\n    <tr>\n      <th>0</th>\n      <td>0</td>\n      <td>tcp</td>\n      <td>private</td>\n      <td>REJ</td>\n      <td>0</td>\n      <td>0</td>\n      <td>0</td>\n      <td>0</td>\n      <td>0</td>\n      <td>0</td>\n      <td>...</td>\n      <td>0.04</td>\n      <td>0.06</td>\n      <td>0.00</td>\n      <td>0.00</td>\n      <td>0.0</td>\n      <td>0.0</td>\n      <td>1.00</td>\n      <td>1.00</td>\n      <td>dos</td>\n      <td>21</td>\n    </tr>\n    <tr>\n      <th>1</th>\n      <td>0</td>\n      <td>tcp</td>\n      <td>private</td>\n      <td>REJ</td>\n      <td>0</td>\n      <td>0</td>\n      <td>0</td>\n      <td>0</td>\n      <td>0</td>\n      <td>0</td>\n      <td>...</td>\n      <td>0.00</td>\n      <td>0.06</td>\n      <td>0.00</td>\n      <td>0.00</td>\n      <td>0.0</td>\n      <td>0.0</td>\n      <td>1.00</td>\n      <td>1.00</td>\n      <td>dos</td>\n      <td>21</td>\n    </tr>\n    <tr>\n      <th>2</th>\n      <td>2</td>\n      <td>tcp</td>\n      <td>ftp_data</td>\n      <td>SF</td>\n      <td>12983</td>\n      <td>0</td>\n      <td>0</td>\n      <td>0</td>\n      <td>0</td>\n      <td>0</td>\n      <td>...</td>\n      <td>0.61</td>\n      <td>0.04</td>\n      <td>0.61</td>\n      <td>0.02</td>\n      <td>0.0</td>\n      <td>0.0</td>\n      <td>0.00</td>\n      <td>0.00</td>\n      <td>normal</td>\n      <td>21</td>\n    </tr>\n    <tr>\n      <th>3</th>\n      <td>0</td>\n      <td>icmp</td>\n      <td>eco_i</td>\n      <td>SF</td>\n      <td>20</td>\n      <td>0</td>\n      <td>0</td>\n      <td>0</td>\n      <td>0</td>\n      <td>0</td>\n      <td>...</td>\n      <td>1.00</td>\n      <td>0.00</td>\n      <td>1.00</td>\n      <td>0.28</td>\n      <td>0.0</td>\n      <td>0.0</td>\n      <td>0.00</td>\n      <td>0.00</td>\n      <td>probe</td>\n      <td>15</td>\n    </tr>\n    <tr>\n      <th>4</th>\n      <td>1</td>\n      <td>tcp</td>\n      <td>telnet</td>\n      <td>RSTO</td>\n      <td>0</td>\n      <td>15</td>\n      <td>0</td>\n      <td>0</td>\n      <td>0</td>\n      <td>0</td>\n      <td>...</td>\n      <td>0.31</td>\n      <td>0.17</td>\n      <td>0.03</td>\n      <td>0.02</td>\n      <td>0.0</td>\n      <td>0.0</td>\n      <td>0.83</td>\n      <td>0.71</td>\n      <td>probe</td>\n      <td>11</td>\n    </tr>\n  </tbody>\n</table>\n<p>5 rows × 43 columns</p>\n</div>"
     },
     "execution_count": 30,
     "metadata": {},
     "output_type": "execute_result"
    }
   ],
   "source": [
    "test_data.head()"
   ],
   "metadata": {
    "collapsed": false,
    "ExecuteTime": {
     "end_time": "2023-12-23T03:54:03.182428Z",
     "start_time": "2023-12-23T03:54:03.166772100Z"
    }
   }
  },
  {
   "cell_type": "code",
   "execution_count": 31,
   "outputs": [],
   "source": [
    "# 删除train_data中的difficulty, label列\n",
    "X_train = train_data.drop('label', axis=1)\n",
    "X_train = X_train.drop('difficulty', axis=1)\n",
    "# 提取出训练集中的label标签\n",
    "labels_train = train_data['label']\n",
    "labels = labels_train"
   ],
   "metadata": {
    "collapsed": false,
    "ExecuteTime": {
     "end_time": "2023-12-23T03:54:04.499337200Z",
     "start_time": "2023-12-23T03:54:04.452461300Z"
    }
   }
  },
  {
   "cell_type": "code",
   "execution_count": 32,
   "outputs": [
    {
     "data": {
      "text/plain": "   duration protocol_type   service flag  src_bytes  dst_bytes  land  \\\n0         0           tcp  ftp_data   SF        491          0     0   \n1         0           udp     other   SF        146          0     0   \n2         0           tcp   private   S0          0          0     0   \n3         0           tcp      http   SF        232       8153     0   \n4         0           tcp      http   SF        199        420     0   \n\n   wrong_fragment  urgent  hot  ...  dst_host_count  dst_host_srv_count  \\\n0               0       0    0  ...             150                  25   \n1               0       0    0  ...             255                   1   \n2               0       0    0  ...             255                  26   \n3               0       0    0  ...              30                 255   \n4               0       0    0  ...             255                 255   \n\n   dst_host_same_srv_rate  dst_host_diff_srv_rate  \\\n0                    0.17                    0.03   \n1                    0.00                    0.60   \n2                    0.10                    0.05   \n3                    1.00                    0.00   \n4                    1.00                    0.00   \n\n   dst_host_same_src_port_rate  dst_host_srv_diff_host_rate  \\\n0                         0.17                         0.00   \n1                         0.88                         0.00   \n2                         0.00                         0.00   \n3                         0.03                         0.04   \n4                         0.00                         0.00   \n\n   dst_host_serror_rate  dst_host_srv_serror_rate  dst_host_rerror_rate  \\\n0                  0.00                      0.00                  0.05   \n1                  0.00                      0.00                  0.00   \n2                  1.00                      1.00                  0.00   \n3                  0.03                      0.01                  0.00   \n4                  0.00                      0.00                  0.00   \n\n   dst_host_srv_rerror_rate  \n0                      0.00  \n1                      0.00  \n2                      0.00  \n3                      0.01  \n4                      0.00  \n\n[5 rows x 41 columns]",
      "text/html": "<div>\n<style scoped>\n    .dataframe tbody tr th:only-of-type {\n        vertical-align: middle;\n    }\n\n    .dataframe tbody tr th {\n        vertical-align: top;\n    }\n\n    .dataframe thead th {\n        text-align: right;\n    }\n</style>\n<table border=\"1\" class=\"dataframe\">\n  <thead>\n    <tr style=\"text-align: right;\">\n      <th></th>\n      <th>duration</th>\n      <th>protocol_type</th>\n      <th>service</th>\n      <th>flag</th>\n      <th>src_bytes</th>\n      <th>dst_bytes</th>\n      <th>land</th>\n      <th>wrong_fragment</th>\n      <th>urgent</th>\n      <th>hot</th>\n      <th>...</th>\n      <th>dst_host_count</th>\n      <th>dst_host_srv_count</th>\n      <th>dst_host_same_srv_rate</th>\n      <th>dst_host_diff_srv_rate</th>\n      <th>dst_host_same_src_port_rate</th>\n      <th>dst_host_srv_diff_host_rate</th>\n      <th>dst_host_serror_rate</th>\n      <th>dst_host_srv_serror_rate</th>\n      <th>dst_host_rerror_rate</th>\n      <th>dst_host_srv_rerror_rate</th>\n    </tr>\n  </thead>\n  <tbody>\n    <tr>\n      <th>0</th>\n      <td>0</td>\n      <td>tcp</td>\n      <td>ftp_data</td>\n      <td>SF</td>\n      <td>491</td>\n      <td>0</td>\n      <td>0</td>\n      <td>0</td>\n      <td>0</td>\n      <td>0</td>\n      <td>...</td>\n      <td>150</td>\n      <td>25</td>\n      <td>0.17</td>\n      <td>0.03</td>\n      <td>0.17</td>\n      <td>0.00</td>\n      <td>0.00</td>\n      <td>0.00</td>\n      <td>0.05</td>\n      <td>0.00</td>\n    </tr>\n    <tr>\n      <th>1</th>\n      <td>0</td>\n      <td>udp</td>\n      <td>other</td>\n      <td>SF</td>\n      <td>146</td>\n      <td>0</td>\n      <td>0</td>\n      <td>0</td>\n      <td>0</td>\n      <td>0</td>\n      <td>...</td>\n      <td>255</td>\n      <td>1</td>\n      <td>0.00</td>\n      <td>0.60</td>\n      <td>0.88</td>\n      <td>0.00</td>\n      <td>0.00</td>\n      <td>0.00</td>\n      <td>0.00</td>\n      <td>0.00</td>\n    </tr>\n    <tr>\n      <th>2</th>\n      <td>0</td>\n      <td>tcp</td>\n      <td>private</td>\n      <td>S0</td>\n      <td>0</td>\n      <td>0</td>\n      <td>0</td>\n      <td>0</td>\n      <td>0</td>\n      <td>0</td>\n      <td>...</td>\n      <td>255</td>\n      <td>26</td>\n      <td>0.10</td>\n      <td>0.05</td>\n      <td>0.00</td>\n      <td>0.00</td>\n      <td>1.00</td>\n      <td>1.00</td>\n      <td>0.00</td>\n      <td>0.00</td>\n    </tr>\n    <tr>\n      <th>3</th>\n      <td>0</td>\n      <td>tcp</td>\n      <td>http</td>\n      <td>SF</td>\n      <td>232</td>\n      <td>8153</td>\n      <td>0</td>\n      <td>0</td>\n      <td>0</td>\n      <td>0</td>\n      <td>...</td>\n      <td>30</td>\n      <td>255</td>\n      <td>1.00</td>\n      <td>0.00</td>\n      <td>0.03</td>\n      <td>0.04</td>\n      <td>0.03</td>\n      <td>0.01</td>\n      <td>0.00</td>\n      <td>0.01</td>\n    </tr>\n    <tr>\n      <th>4</th>\n      <td>0</td>\n      <td>tcp</td>\n      <td>http</td>\n      <td>SF</td>\n      <td>199</td>\n      <td>420</td>\n      <td>0</td>\n      <td>0</td>\n      <td>0</td>\n      <td>0</td>\n      <td>...</td>\n      <td>255</td>\n      <td>255</td>\n      <td>1.00</td>\n      <td>0.00</td>\n      <td>0.00</td>\n      <td>0.00</td>\n      <td>0.00</td>\n      <td>0.00</td>\n      <td>0.00</td>\n      <td>0.00</td>\n    </tr>\n  </tbody>\n</table>\n<p>5 rows × 41 columns</p>\n</div>"
     },
     "execution_count": 32,
     "metadata": {},
     "output_type": "execute_result"
    }
   ],
   "source": [
    "X_train.head()"
   ],
   "metadata": {
    "collapsed": false,
    "ExecuteTime": {
     "end_time": "2023-12-23T03:54:08.202191400Z",
     "start_time": "2023-12-23T03:54:08.170920100Z"
    }
   }
  },
  {
   "cell_type": "code",
   "execution_count": 33,
   "metadata": {
    "ExecuteTime": {
     "end_time": "2023-12-23T03:55:08.016998100Z",
     "start_time": "2023-12-23T03:55:07.742358200Z"
    }
   },
   "outputs": [],
   "source": [
    "# 由于使用的是独热编码\n",
    "# 但是测试集中的 service 字段与训练集中的 service 缺失了6种数据因此将缺失的这七种数据加入测试集\n",
    "# 保证测试集 service 字段能够能够进行标签编码\n",
    "service = X_train['service']\n",
    "test_service = test_data['service']\n",
    "different_service_type = np.array(list(set(service) - set(test_service)))\n",
    "np_service = np.array(list(service))\n",
    "miss_service_data_index = np.array(\n",
    "    [True if type_service in different_service_type else False for type_service in np_service])\n",
    "add_to_test_data = train_data.values[miss_service_data_index.nonzero()]\n",
    "# 将缺失的数据加入测试集\n",
    "test_data = np.concatenate((test_data.values, add_to_test_data))"
   ]
  },
  {
   "cell_type": "code",
   "execution_count": 23,
   "metadata": {
    "ExecuteTime": {
     "end_time": "2023-12-23T03:24:55.845153100Z",
     "start_time": "2023-12-23T03:24:55.813885800Z"
    }
   },
   "outputs": [],
   "source": [
    "# 删掉测试集的标签项\n",
    "test_data = pd.DataFrame(test_data)\n",
    "test_data.columns = data_columns\n",
    "\n",
    "X_test = test_data.drop('label', axis=1)\n",
    "X_test = X_test.drop('difficulty', axis=1)\n",
    "labels_test = test_data['label']"
   ]
  },
  {
   "cell_type": "code",
   "execution_count": 24,
   "outputs": [
    {
     "data": {
      "text/plain": "  duration protocol_type   service  flag src_bytes dst_bytes land  \\\n0        0           tcp   private   REJ         0         0    0   \n1        2           tcp  ftp_data    SF     12983         0    0   \n2        0          icmp     eco_i    SF        20         0    0   \n3        1           tcp    telnet  RSTO         0        15    0   \n4        0           tcp      http    SF       267     14515    0   \n\n  wrong_fragment urgent hot  ... dst_host_count dst_host_srv_count  \\\n0              0      0   0  ...            255                  1   \n1              0      0   0  ...            134                 86   \n2              0      0   0  ...              3                 57   \n3              0      0   0  ...             29                 86   \n4              0      0   0  ...            155                255   \n\n  dst_host_same_srv_rate dst_host_diff_srv_rate dst_host_same_src_port_rate  \\\n0                    0.0                   0.06                         0.0   \n1                   0.61                   0.04                        0.61   \n2                    1.0                    0.0                         1.0   \n3                   0.31                   0.17                        0.03   \n4                    1.0                    0.0                        0.01   \n\n  dst_host_srv_diff_host_rate dst_host_serror_rate dst_host_srv_serror_rate  \\\n0                         0.0                  0.0                      0.0   \n1                        0.02                  0.0                      0.0   \n2                        0.28                  0.0                      0.0   \n3                        0.02                  0.0                      0.0   \n4                        0.03                 0.01                      0.0   \n\n  dst_host_rerror_rate dst_host_srv_rerror_rate  \n0                  1.0                      1.0  \n1                  0.0                      0.0  \n2                  0.0                      0.0  \n3                 0.83                     0.71  \n4                  0.0                      0.0  \n\n[5 rows x 41 columns]",
      "text/html": "<div>\n<style scoped>\n    .dataframe tbody tr th:only-of-type {\n        vertical-align: middle;\n    }\n\n    .dataframe tbody tr th {\n        vertical-align: top;\n    }\n\n    .dataframe thead th {\n        text-align: right;\n    }\n</style>\n<table border=\"1\" class=\"dataframe\">\n  <thead>\n    <tr style=\"text-align: right;\">\n      <th></th>\n      <th>duration</th>\n      <th>protocol_type</th>\n      <th>service</th>\n      <th>flag</th>\n      <th>src_bytes</th>\n      <th>dst_bytes</th>\n      <th>land</th>\n      <th>wrong_fragment</th>\n      <th>urgent</th>\n      <th>hot</th>\n      <th>...</th>\n      <th>dst_host_count</th>\n      <th>dst_host_srv_count</th>\n      <th>dst_host_same_srv_rate</th>\n      <th>dst_host_diff_srv_rate</th>\n      <th>dst_host_same_src_port_rate</th>\n      <th>dst_host_srv_diff_host_rate</th>\n      <th>dst_host_serror_rate</th>\n      <th>dst_host_srv_serror_rate</th>\n      <th>dst_host_rerror_rate</th>\n      <th>dst_host_srv_rerror_rate</th>\n    </tr>\n  </thead>\n  <tbody>\n    <tr>\n      <th>0</th>\n      <td>0</td>\n      <td>tcp</td>\n      <td>private</td>\n      <td>REJ</td>\n      <td>0</td>\n      <td>0</td>\n      <td>0</td>\n      <td>0</td>\n      <td>0</td>\n      <td>0</td>\n      <td>...</td>\n      <td>255</td>\n      <td>1</td>\n      <td>0.0</td>\n      <td>0.06</td>\n      <td>0.0</td>\n      <td>0.0</td>\n      <td>0.0</td>\n      <td>0.0</td>\n      <td>1.0</td>\n      <td>1.0</td>\n    </tr>\n    <tr>\n      <th>1</th>\n      <td>2</td>\n      <td>tcp</td>\n      <td>ftp_data</td>\n      <td>SF</td>\n      <td>12983</td>\n      <td>0</td>\n      <td>0</td>\n      <td>0</td>\n      <td>0</td>\n      <td>0</td>\n      <td>...</td>\n      <td>134</td>\n      <td>86</td>\n      <td>0.61</td>\n      <td>0.04</td>\n      <td>0.61</td>\n      <td>0.02</td>\n      <td>0.0</td>\n      <td>0.0</td>\n      <td>0.0</td>\n      <td>0.0</td>\n    </tr>\n    <tr>\n      <th>2</th>\n      <td>0</td>\n      <td>icmp</td>\n      <td>eco_i</td>\n      <td>SF</td>\n      <td>20</td>\n      <td>0</td>\n      <td>0</td>\n      <td>0</td>\n      <td>0</td>\n      <td>0</td>\n      <td>...</td>\n      <td>3</td>\n      <td>57</td>\n      <td>1.0</td>\n      <td>0.0</td>\n      <td>1.0</td>\n      <td>0.28</td>\n      <td>0.0</td>\n      <td>0.0</td>\n      <td>0.0</td>\n      <td>0.0</td>\n    </tr>\n    <tr>\n      <th>3</th>\n      <td>1</td>\n      <td>tcp</td>\n      <td>telnet</td>\n      <td>RSTO</td>\n      <td>0</td>\n      <td>15</td>\n      <td>0</td>\n      <td>0</td>\n      <td>0</td>\n      <td>0</td>\n      <td>...</td>\n      <td>29</td>\n      <td>86</td>\n      <td>0.31</td>\n      <td>0.17</td>\n      <td>0.03</td>\n      <td>0.02</td>\n      <td>0.0</td>\n      <td>0.0</td>\n      <td>0.83</td>\n      <td>0.71</td>\n    </tr>\n    <tr>\n      <th>4</th>\n      <td>0</td>\n      <td>tcp</td>\n      <td>http</td>\n      <td>SF</td>\n      <td>267</td>\n      <td>14515</td>\n      <td>0</td>\n      <td>0</td>\n      <td>0</td>\n      <td>0</td>\n      <td>...</td>\n      <td>155</td>\n      <td>255</td>\n      <td>1.0</td>\n      <td>0.0</td>\n      <td>0.01</td>\n      <td>0.03</td>\n      <td>0.01</td>\n      <td>0.0</td>\n      <td>0.0</td>\n      <td>0.0</td>\n    </tr>\n  </tbody>\n</table>\n<p>5 rows × 41 columns</p>\n</div>"
     },
     "execution_count": 24,
     "metadata": {},
     "output_type": "execute_result"
    }
   ],
   "source": [
    "X_test.head()"
   ],
   "metadata": {
    "collapsed": false,
    "ExecuteTime": {
     "end_time": "2023-12-23T03:24:56.536108100Z",
     "start_time": "2023-12-23T03:24:56.504842700Z"
    }
   }
  },
  {
   "cell_type": "code",
   "execution_count": 25,
   "outputs": [
    {
     "name": "stdout",
     "output_type": "stream",
     "text": [
      "service type only exist in train_dataset: {'urh_i', 'aol', 'http_2784', 'harvest', 'red_i', 'http_8001'}\n",
      "protocol type only exist in train_dataset: set()\n",
      "flag type only exist in train_dataset: set()\n",
      "label type only exist in train_dataset: set()\n",
      "-------------------------------------------------------\n",
      "service type only exist in test_dataset: set()\n",
      "protocol type only exist in test_dataset: set()\n",
      "flag type only exist in test_dataset: set()\n",
      "label type only exist in test_dataset: set()\n"
     ]
    }
   ],
   "source": [
    "# 找出只在训练集中出现的 service 类型\n",
    "unique_service = set(service_train) - set(service_test)\n",
    "unique_protocol_type = set(protocol_type_train) - set(protocol_type_test)\n",
    "unique_flag = set(flag_train) - set(flag_test)\n",
    "unique_label = set(label_train) - set(label_test)\n",
    "\n",
    "test_unique_service = set(service_test) - set(service_train)\n",
    "test_unique_protocol_type = set(protocol_type_test) - set(protocol_type_train)\n",
    "test_unique_flag = set(flag_test) - set(flag_train)\n",
    "test_unique_label = set(label_test) - set(label_train)\n",
    "\n",
    "# 输出结果\n",
    "print(\"service type only exist in train_dataset:\", unique_service)\n",
    "print(\"protocol type only exist in train_dataset:\", unique_protocol_type)\n",
    "print(\"flag type only exist in train_dataset:\", unique_flag)\n",
    "print(\"label type only exist in train_dataset:\", unique_label)\n",
    "print(\"-------------------------------------------------------\")\n",
    "print(\"service type only exist in test_dataset:\", test_unique_service)\n",
    "print(\"protocol type only exist in test_dataset:\", test_unique_protocol_type)\n",
    "print(\"flag type only exist in test_dataset:\", test_unique_flag)\n",
    "print(\"label type only exist in test_dataset:\", test_unique_label)"
   ],
   "metadata": {
    "collapsed": false,
    "ExecuteTime": {
     "end_time": "2023-12-23T03:24:57.451797800Z",
     "start_time": "2023-12-23T03:24:57.399679300Z"
    }
   }
  },
  {
   "cell_type": "code",
   "execution_count": 29,
   "metadata": {
    "ExecuteTime": {
     "end_time": "2023-12-22T16:00:10.983563700Z",
     "start_time": "2023-12-22T16:00:10.968000200Z"
    }
   },
   "outputs": [],
   "source": [
    "# 提取特征方便进行标签编码\n",
    "test_protocol_type = X_test['protocol_type']\n",
    "test_service = X_test['service']\n",
    "test_flag = X_test['flag']\n",
    "\n",
    "protocol_type = X_train['protocol_type']\n",
    "service = X_train['service']\n",
    "flag = X_train['flag']"
   ]
  },
  {
   "cell_type": "code",
   "execution_count": 30,
   "outputs": [
    {
     "name": "stdout",
     "output_type": "stream",
     "text": [
      "0         tcp\n",
      "1         tcp\n",
      "2        icmp\n",
      "3         tcp\n",
      "4         tcp\n",
      "         ... \n",
      "22563     tcp\n",
      "22564    icmp\n",
      "22565    icmp\n",
      "22566    icmp\n",
      "22567     tcp\n",
      "Name: protocol_type, Length: 22568, dtype: object\n",
      "0         private\n",
      "1        ftp_data\n",
      "2           eco_i\n",
      "3          telnet\n",
      "4            http\n",
      "           ...   \n",
      "22563         aol\n",
      "22564       urh_i\n",
      "22565       red_i\n",
      "22566       urh_i\n",
      "22567     harvest\n",
      "Name: service, Length: 22568, dtype: object\n",
      "0         REJ\n",
      "1          SF\n",
      "2          SF\n",
      "3        RSTO\n",
      "4          SF\n",
      "         ... \n",
      "22563     REJ\n",
      "22564      SF\n",
      "22565      SF\n",
      "22566      SF\n",
      "22567     REJ\n",
      "Name: flag, Length: 22568, dtype: object\n"
     ]
    }
   ],
   "source": [
    "print(X_test['protocol_type'])\n",
    "print(X_test['service'])\n",
    "print(X_test['flag'])"
   ],
   "metadata": {
    "collapsed": false,
    "ExecuteTime": {
     "end_time": "2023-12-22T16:00:13.180567300Z",
     "start_time": "2023-12-22T16:00:13.149302600Z"
    }
   }
  },
  {
   "cell_type": "code",
   "execution_count": 14,
   "metadata": {
    "ExecuteTime": {
     "end_time": "2023-12-15T15:11:46.958128600Z",
     "start_time": "2023-12-15T15:11:46.785796700Z"
    }
   },
   "outputs": [],
   "source": [
    "# # 使用标签编码对字符型离散变量进行处理\n",
    "# le = preprocessing.LabelEncoder()\n",
    "# enc = preprocessing.OneHotEncoder()\n",
    "# lb = preprocessing.LabelBinarizer()\n",
    "# \n",
    "# # 对训练集进行 one-hot 编码\n",
    "# X_train['protocol_type'] = le.fit_transform(protocol_type)\n",
    "# X_train['service'] = le.fit_transform(service)\n",
    "# X_train['flag'] = le.fit_transform(flag)\n",
    "# labels_train = le.fit_transform(labels_train) + 1\n",
    "# \n",
    "# # 对测试集进行 one-hot 编码\n",
    "# X_test['protocol_type'] = le.fit_transform(test_protocol_type)\n",
    "# X_test['service'] = le.fit_transform(test_service)\n",
    "# X_test['flag'] = le.fit_transform(test_flag)\n",
    "# \n",
    "# \n",
    "# X = X_train\n",
    "# standard_train_X = StandardScaler().fit_transform(X)\n",
    "# \n",
    "# # test_X = X_test.to_numpy()\n",
    "# test_X = X_test\n",
    "# standard_test_X = StandardScaler().fit_transform(test_X)"
   ]
  },
  {
   "cell_type": "code",
   "execution_count": 31,
   "outputs": [],
   "source": [
    "from sklearn import preprocessing\n",
    "\n",
    "# 初始化LabelEncoder\n",
    "le_protocol_type = preprocessing.LabelEncoder()\n",
    "le_service = preprocessing.LabelEncoder()\n",
    "le_flag = preprocessing.LabelEncoder()\n",
    "le_labels = preprocessing.LabelEncoder()\n",
    "\n",
    "# 对训练集进行标签编码\n",
    "X_train['protocol_type'] = le_protocol_type.fit_transform(X_train['protocol_type'])\n",
    "X_train['service'] = le_service.fit_transform(X_train['service'])\n",
    "X_train['flag'] = le_flag.fit_transform(X_train['flag'])\n",
    "labels_train = le_labels.fit_transform(labels_train) + 1\n",
    "\n",
    "# 使用相同的编码器对测试集进行标签编码\n",
    "X_test['protocol_type'] = le_protocol_type.transform(X_test['protocol_type'])\n",
    "X_test['service'] = le_service.transform(X_test['service'])\n",
    "X_test['flag'] = le_flag.transform(X_test['flag'])\n",
    "\n",
    "# 特征标准化\n",
    "scaler = preprocessing.StandardScaler()\n",
    "standard_train_X = scaler.fit_transform(X_train)\n",
    "standard_test_X = scaler.transform(X_test)\n"
   ],
   "metadata": {
    "collapsed": false,
    "ExecuteTime": {
     "end_time": "2023-12-22T16:00:18.097852500Z",
     "start_time": "2023-12-22T16:00:17.925477500Z"
    }
   }
  },
  {
   "cell_type": "code",
   "execution_count": 32,
   "outputs": [
    {
     "name": "stdout",
     "output_type": "stream",
     "text": [
      "0        1\n",
      "1        1\n",
      "2        0\n",
      "3        1\n",
      "4        1\n",
      "        ..\n",
      "22563    1\n",
      "22564    0\n",
      "22565    0\n",
      "22566    0\n",
      "22567    1\n",
      "Name: protocol_type, Length: 22568, dtype: int32\n",
      "0        49\n",
      "1        20\n",
      "2        14\n",
      "3        60\n",
      "4        24\n",
      "         ..\n",
      "22563     3\n",
      "22564    64\n",
      "22565    50\n",
      "22566    64\n",
      "22567    22\n",
      "Name: service, Length: 22568, dtype: int32\n",
      "0        1\n",
      "1        9\n",
      "2        9\n",
      "3        2\n",
      "4        9\n",
      "        ..\n",
      "22563    1\n",
      "22564    9\n",
      "22565    9\n",
      "22566    9\n",
      "22567    1\n",
      "Name: flag, Length: 22568, dtype: int32\n"
     ]
    }
   ],
   "source": [
    "print(X_test['protocol_type'])\n",
    "print(X_test['service'])\n",
    "print(X_test['flag'])"
   ],
   "metadata": {
    "collapsed": false,
    "ExecuteTime": {
     "end_time": "2023-12-22T16:00:19.819307100Z",
     "start_time": "2023-12-22T16:00:19.788056900Z"
    }
   }
  },
  {
   "cell_type": "code",
   "execution_count": 33,
   "metadata": {
    "ExecuteTime": {
     "end_time": "2023-12-22T16:00:22.702939Z",
     "start_time": "2023-12-22T16:00:22.656008500Z"
    }
   },
   "outputs": [
    {
     "name": "stdout",
     "output_type": "stream",
     "text": [
      "The dimension after Z-score StandardScaler: (125972, 41)\n",
      "The dimension after Z-score StandardScaler: (22568, 41)\n"
     ]
    }
   ],
   "source": [
    "print(f'The dimension after Z-score StandardScaler: {standard_train_X.shape}')\n",
    "print(f'The dimension after Z-score StandardScaler: {standard_test_X.shape}')"
   ]
  },
  {
   "cell_type": "code",
   "execution_count": 34,
   "outputs": [
    {
     "name": "stdout",
     "output_type": "stream",
     "text": [
      "[[-0.11024967  2.21930219  0.78142044  0.75111595 -0.0077374  -0.00491866\n",
      "  -0.01408887 -0.08948678 -0.00773602 -0.09507605 -0.02702293 -0.80926713\n",
      "  -0.01166369 -0.03665201 -0.0244366  -0.0123852  -0.02618013 -0.01860997\n",
      "  -0.04122136  0.         -0.00281751 -0.09753133 -0.62098696 -0.36811175\n",
      "  -0.63721282 -0.63193254 -0.37436393 -0.3744333  -1.32141976  0.4821961\n",
      "  -0.3745614   0.73433738 -1.03569278 -1.16103461  2.73683944  2.36772855\n",
      "  -0.28910464 -0.63953548 -0.62487425 -0.38763494 -0.37638873]]\n",
      "Train Data Mean: [ 4.08370861e-17  4.80851048e-17  9.30115400e-17 -1.23864974e-16\n",
      " -9.02477040e-19 -1.69214445e-18  3.38428890e-18  2.17158538e-18\n",
      "  6.23273206e-18 -7.78386447e-18  9.87084263e-19 -5.06233215e-17\n",
      " -3.44069372e-18 -2.67922871e-18 -6.48655373e-19  1.53703121e-18\n",
      "  8.31971022e-18 -1.12809630e-18  5.21744539e-19  0.00000000e+00\n",
      " -1.31141195e-18  1.70906590e-17 -1.21270352e-17 -1.43550254e-17\n",
      " -1.70370744e-16 -9.89622480e-17 -1.94173576e-17 -4.99464637e-17\n",
      "  2.90202773e-16  1.80495408e-18 -3.12482675e-17 -5.13283817e-18\n",
      " -1.27869716e-16  2.32557052e-16 -3.78194285e-17 -1.41576086e-17\n",
      "  5.22872635e-17  4.68159965e-18  8.80197138e-17  9.87084263e-18\n",
      "  2.71166148e-17]\n",
      "Train Data Standard Deviation: [1. 1. 1. 1. 1. 1. 1. 1. 1. 1. 1. 1. 1. 1. 1. 1. 1. 1. 1. 0. 1. 1. 1. 1.\n",
      " 1. 1. 1. 1. 1. 1. 1. 1. 1. 1. 1. 1. 1. 1. 1. 1. 1.]\n"
     ]
    }
   ],
   "source": [
    "# 打印经过标准化的训练数据的前几行\n",
    "print(standard_train_X[:1 :])\n",
    "# 计算并打印训练数据的均值和标准差\n",
    "print(\"Train Data Mean:\", np.mean(standard_train_X, axis=0))\n",
    "print(\"Train Data Standard Deviation:\", np.std(standard_train_X, axis=0))"
   ],
   "metadata": {
    "collapsed": false,
    "ExecuteTime": {
     "end_time": "2023-12-22T16:00:25.477525Z",
     "start_time": "2023-12-22T16:00:25.445807400Z"
    }
   }
  },
  {
   "cell_type": "code",
   "execution_count": 35,
   "outputs": [
    {
     "name": "stdout",
     "output_type": "stream",
     "text": [
      "[[-1.10249666e-01 -1.24706659e-01  1.08729745e+00 -2.22357076e+00\n",
      "  -7.76227089e-03 -4.91866391e-03 -1.40888677e-02 -8.94867800e-02\n",
      "  -7.73601574e-03 -9.50760523e-02 -2.70229257e-02 -8.09267134e-01\n",
      "  -1.16636889e-02 -3.66520148e-02 -2.44366043e-02 -1.23851995e-02\n",
      "  -2.61801282e-02 -1.86099702e-02 -4.12213615e-02  0.00000000e+00\n",
      "  -2.81750510e-03 -9.75313348e-02  4.53170294e-01 -3.68111748e-01\n",
      "  -6.37212824e-01 -6.31932543e-01  2.74639045e+00  2.71535234e+00\n",
      "  -1.48064753e+00 -1.69323146e-02 -3.74561400e-01  7.34337380e-01\n",
      "  -1.03569278e+00 -1.16103461e+00 -1.21486965e-01 -4.80194395e-01\n",
      "  -2.89104644e-01 -6.39535482e-01 -6.24874248e-01  2.87439693e+00\n",
      "   2.75390135e+00]]\n",
      "Test Data Mean: [-0.02630839  0.0373216   0.20252569 -0.03916702 -0.0059933  -0.00440792\n",
      "  0.00793102 -0.05627966  0.04161433 -0.04610705  0.45096004  0.09405336\n",
      " -0.00666113  0.02992967 -0.01854873 -0.00769075 -0.00814222  0.03332939\n",
      " -0.00554804  0.          0.17017941  0.19645858 -0.04378141  0.04619489\n",
      " -0.40685321 -0.40014625  0.36975511  0.35199354  0.18055597  0.17367875\n",
      "  0.00263097  0.11786084  0.22550548  0.19361732  0.04155654 -0.05230558\n",
      " -0.11480508 -0.41976974 -0.40181852  0.37372023  0.33299481]\n",
      "Test Data Standard Deviation: [5.39991122e-01 9.32824757e-01 9.60418296e-01 1.19354028e+00\n",
      " 8.04936888e-02 5.27386913e-03 1.25010136e+00 5.62142776e-01\n",
      " 2.53743719e+00 4.31597057e-01 3.32115346e+00 1.01550977e+00\n",
      " 3.03464951e-01 1.34706990e+00 4.66142716e-01 3.29396927e-01\n",
      " 1.39784608e+00 2.16344756e+00 6.82219080e-01 0.00000000e+00\n",
      " 7.83398391e+00 1.71946375e+00 1.12398941e+00 1.22554222e+00\n",
      " 6.61248280e-01 6.67312548e-01 1.29845539e+00 1.28586939e+00\n",
      " 9.38345938e-01 1.43991309e+00 9.75347952e-01 9.47647877e-01\n",
      " 1.00990404e+00 9.70688214e-01 1.17083088e+00 9.90684983e-01\n",
      " 7.58226221e-01 6.13787379e-01 6.32431487e-01 1.26299139e+00\n",
      " 1.25475122e+00]\n"
     ]
    }
   ],
   "source": [
    "# 打印经过标准化的测试数据的前几行\n",
    "print(standard_test_X[:1, :])\n",
    "# 计算并打印测试数据的均值和标准差\n",
    "print(\"Test Data Mean:\", np.mean(standard_test_X, axis=0))\n",
    "print(\"Test Data Standard Deviation:\", np.std(standard_test_X, axis=0))"
   ],
   "metadata": {
    "collapsed": false,
    "ExecuteTime": {
     "end_time": "2023-12-22T16:00:27.295884900Z",
     "start_time": "2023-12-22T16:00:27.264627100Z"
    }
   }
  },
  {
   "cell_type": "code",
   "execution_count": 36,
   "outputs": [
    {
     "data": {
      "text/plain": "<Figure size 1200x600 with 1 Axes>",
      "image/png": "[encoded data removed]"
     },
     "metadata": {},
     "output_type": "display_data"
    }
   ],
   "source": [
    "plt.figure(figsize=(12, 6))\n",
    "sns.boxplot(data=standard_train_X)\n",
    "plt.title('Boxplot of Standardized Training Data')\n",
    "plt.ylim([-20, 20])\n",
    "plt.xlabel('Feature Index')\n",
    "plt.ylabel('Value')\n",
    "plt.show()"
   ],
   "metadata": {
    "collapsed": false,
    "ExecuteTime": {
     "end_time": "2023-12-22T16:00:36.081211500Z",
     "start_time": "2023-12-22T16:00:29.863430800Z"
    }
   }
  },
  {
   "cell_type": "code",
   "execution_count": 37,
   "outputs": [
    {
     "name": "stdout",
     "output_type": "stream",
     "text": [
      "[ 8.59474868  4.0601387  10.02222311 ... 10.02222311  3.47410365\n",
      "  8.59474868]\n",
      "Number of extreme values: 32931\n",
      "Maximum extreme value: 354.9239355129491\n",
      "Minimum extreme value: 3.0014992879841653\n"
     ]
    }
   ],
   "source": [
    "# check if there are extreme values\n",
    "extreme_values = standard_train_X[np.abs(standard_train_X) > 3]\n",
    "print(extreme_values)\n",
    "extreme_count = len(extreme_values)  # extreme_values count\n",
    "extreme_max = np.max(extreme_values)  # extreme_values max\n",
    "extreme_min = np.min(extreme_values)  # extreme_values min\n",
    "\n",
    "print(\"Number of extreme values:\", extreme_count)\n",
    "print(\"Maximum extreme value:\", extreme_max)\n",
    "print(\"Minimum extreme value:\", extreme_min)"
   ],
   "metadata": {
    "collapsed": false,
    "ExecuteTime": {
     "end_time": "2023-12-22T16:00:40.424456600Z",
     "start_time": "2023-12-22T16:00:40.361389400Z"
    }
   }
  },
  {
   "cell_type": "code",
   "execution_count": 38,
   "outputs": [
    {
     "data": {
      "text/plain": "<Figure size 1200x600 with 1 Axes>",
      "image/png": "[encoded data removed]"
     },
     "metadata": {},
     "output_type": "display_data"
    }
   ],
   "source": [
    "plt.figure(figsize=(12, 6))\n",
    "sns.boxplot(data=standard_test_X)\n",
    "plt.title('Boxplot of Standardized Testing Data')\n",
    "plt.ylim([-20, 20])\n",
    "plt.xlabel('Feature Index')\n",
    "plt.ylabel('Value')\n",
    "plt.show()"
   ],
   "metadata": {
    "collapsed": false,
    "ExecuteTime": {
     "end_time": "2023-12-22T16:00:44.595980200Z",
     "start_time": "2023-12-22T16:00:43.188097700Z"
    }
   }
  },
  {
   "cell_type": "code",
   "execution_count": 39,
   "outputs": [
    {
     "name": "stdout",
     "output_type": "stream",
     "text": [
      "[3.47410365 3.47410365 3.37202308 ... 3.72803997 5.19618664 4.85411825]\n",
      "Number of extreme values: 8152\n",
      "Maximum extreme value: 354.9239355129491\n",
      "Minimum extreme value: 3.000118071064693\n"
     ]
    }
   ],
   "source": [
    "# check if there are extreme values\n",
    "extreme_values = standard_test_X[np.abs(standard_test_X) > 3]\n",
    "print(extreme_values)\n",
    "extreme_count = len(extreme_values)  # extreme_values count\n",
    "extreme_max = np.max(extreme_values)  # extreme_values max\n",
    "extreme_min = np.min(extreme_values)  # extreme_values min\n",
    "\n",
    "print(\"Number of extreme values:\", extreme_count)\n",
    "print(\"Maximum extreme value:\", extreme_max)\n",
    "print(\"Minimum extreme value:\", extreme_min)"
   ],
   "metadata": {
    "collapsed": false,
    "ExecuteTime": {
     "end_time": "2023-12-22T16:00:47.109627Z",
     "start_time": "2023-12-22T16:00:47.076768500Z"
    }
   }
  },
  {
   "cell_type": "code",
   "execution_count": null,
   "outputs": [],
   "source": [
    "from yellowbrick.features import Rank1D, Rank2D, PCADecomposition\n",
    "Columns = [\"duration\", \"protocol_type\", \"service\", \"flag\", \"src_bytes\",\n",
    "                \"dst_bytes\", \"land\", \"wrong_fragment\", \"urgent\", \"hot\", \"num_failed_logins\",\n",
    "                \"logged_in\", \"num_compromised\", \"root_shell\", \"su_attempted\", \"num_root\",\n",
    "                \"num_file_creations\", \"num_shells\", \"num_access_files\", \"num_outbound_cmds\",\n",
    "                \"is_host_login\", \"is_guest_login\", \"count\", \"srv_count\", \"serror_rate\",\n",
    "                \"srv_serror_rate\", \"rerror_rate\", \"srv_rerror_rate\", \"same_srv_rate\",\n",
    "                \"diff_srv_rate\", \"srv_diff_host_rate\", \"dst_host_count\", \"dst_host_srv_count\",\n",
    "                \"dst_host_same_srv_rate\", \"dst_host_diff_srv_rate\", \"dst_host_same_src_port_rate\",\n",
    "                \"dst_host_srv_diff_host_rate\", \"dst_host_serror_rate\", \"dst_host_srv_serror_rate\",\n",
    "                \"dst_host_rerror_rate\", \"dst_host_srv_rerror_rate\"]\n",
    "X = standard_train_X[Columns].values \n",
    "y = standard_test_X.label.values\n",
    "visualizer = Rank1D(features=Columns, algorithm='shapiro')\n",
    "visualizer.fit(X, y) \n",
    "visualizer.transform(X) \n",
    "visualizer.show()"
   ],
   "metadata": {
    "collapsed": false
   }
  },
  {
   "cell_type": "code",
   "execution_count": 23,
   "outputs": [
    {
     "name": "stdout",
     "output_type": "stream",
     "text": [
      "{'satan', 'back', 'buffer_overflow', 'perl', 'warezclient', 'teardrop', 'nmap', 'multihop', 'imap', 'normal', 'spy', 'ftp_write', 'neptune', 'guess_passwd', 'ipsweep', 'phf', 'smurf', 'pod', 'rootkit', 'land', 'warezmaster', 'portsweep', 'loadmodule'}\n"
     ]
    }
   ],
   "source": [
    "print(set(labels))"
   ],
   "metadata": {
    "collapsed": false,
    "ExecuteTime": {
     "start_time": "2023-12-03T01:56:41.296797100Z"
    }
   }
  },
  {
   "cell_type": "code",
   "execution_count": 40,
   "outputs": [
    {
     "ename": "IndexError",
     "evalue": "index 0 is out of bounds for axis 0 with size 0",
     "output_type": "error",
     "traceback": [
      "\u001B[1;31m---------------------------------------------------------------------------\u001B[0m",
      "\u001B[1;31mIndexError\u001B[0m                                Traceback (most recent call last)",
      "Cell \u001B[1;32mIn[40], line 5\u001B[0m\n\u001B[0;32m      3\u001B[0m \u001B[38;5;28;01mfor\u001B[39;00m i \u001B[38;5;129;01min\u001B[39;00m \u001B[38;5;28mrange\u001B[39m(\u001B[38;5;241m1\u001B[39m, \u001B[38;5;241m24\u001B[39m):\n\u001B[0;32m      4\u001B[0m     labels_ont_hot_index \u001B[38;5;241m=\u001B[39m (labels_train \u001B[38;5;241m==\u001B[39m i)\u001B[38;5;241m.\u001B[39mnonzero()\n\u001B[1;32m----> 5\u001B[0m     label \u001B[38;5;241m=\u001B[39m labels[\u001B[43mlabels_ont_hot_index\u001B[49m\u001B[43m[\u001B[49m\u001B[38;5;241;43m0\u001B[39;49m\u001B[43m]\u001B[49m\u001B[43m[\u001B[49m\u001B[38;5;241;43m0\u001B[39;49m\u001B[43m]\u001B[49m]\n\u001B[0;32m      6\u001B[0m     index_2_labels\u001B[38;5;241m.\u001B[39mappend(label)\n\u001B[0;32m      7\u001B[0m \u001B[38;5;28mprint\u001B[39m(index_2_labels)\n",
      "\u001B[1;31mIndexError\u001B[0m: index 0 is out of bounds for axis 0 with size 0"
     ]
    }
   ],
   "source": [
    "# 记录下使用独热编码后编码所对应的攻击类型\n",
    "index_2_labels = []\n",
    "for i in range(1, 24):\n",
    "    labels_ont_hot_index = (labels_train == i).nonzero()\n",
    "    label = labels[labels_ont_hot_index[0][0]]\n",
    "    index_2_labels.append(label)\n",
    "print(index_2_labels)"
   ],
   "metadata": {
    "collapsed": false,
    "ExecuteTime": {
     "end_time": "2023-12-22T16:01:28.625672500Z",
     "start_time": "2023-12-22T16:01:28.096521900Z"
    }
   }
  },
  {
   "cell_type": "code",
   "execution_count": 41,
   "metadata": {
    "ExecuteTime": {
     "end_time": "2023-12-22T16:01:34.716546900Z",
     "start_time": "2023-12-22T16:01:34.545211700Z"
    }
   },
   "outputs": [
    {
     "data": {
      "text/plain": "PCA(n_components=41)",
      "text/html": "<style>#sk-container-id-1 {color: black;}#sk-container-id-1 pre{padding: 0;}#sk-container-id-1 div.sk-toggleable {background-color: white;}#sk-container-id-1 label.sk-toggleable__label {cursor: pointer;display: block;width: 100%;margin-bottom: 0;padding: 0.3em;box-sizing: border-box;text-align: center;}#sk-container-id-1 label.sk-toggleable__label-arrow:before {content: \"▸\";float: left;margin-right: 0.25em;color: #696969;}#sk-container-id-1 label.sk-toggleable__label-arrow:hover:before {color: black;}#sk-container-id-1 div.sk-estimator:hover label.sk-toggleable__label-arrow:before {color: black;}#sk-container-id-1 div.sk-toggleable__content {max-height: 0;max-width: 0;overflow: hidden;text-align: left;background-color: #f0f8ff;}#sk-container-id-1 div.sk-toggleable__content pre {margin: 0.2em;color: black;border-radius: 0.25em;background-color: #f0f8ff;}#sk-container-id-1 input.sk-toggleable__control:checked~div.sk-toggleable__content {max-height: 200px;max-width: 100%;overflow: auto;}#sk-container-id-1 input.sk-toggleable__control:checked~label.sk-toggleable__label-arrow:before {content: \"▾\";}#sk-container-id-1 div.sk-estimator input.sk-toggleable__control:checked~label.sk-toggleable__label {background-color: #d4ebff;}#sk-container-id-1 div.sk-label input.sk-toggleable__control:checked~label.sk-toggleable__label {background-color: #d4ebff;}#sk-container-id-1 input.sk-hidden--visually {border: 0;clip: rect(1px 1px 1px 1px);clip: rect(1px, 1px, 1px, 1px);height: 1px;margin: -1px;overflow: hidden;padding: 0;position: absolute;width: 1px;}#sk-container-id-1 div.sk-estimator {font-family: monospace;background-color: #f0f8ff;border: 1px dotted black;border-radius: 0.25em;box-sizing: border-box;margin-bottom: 0.5em;}#sk-container-id-1 div.sk-estimator:hover {background-color: #d4ebff;}#sk-container-id-1 div.sk-parallel-item::after {content: \"\";width: 100%;border-bottom: 1px solid gray;flex-grow: 1;}#sk-container-id-1 div.sk-label:hover label.sk-toggleable__label {background-color: #d4ebff;}#sk-container-id-1 div.sk-serial::before {content: \"\";position: absolute;border-left: 1px solid gray;box-sizing: border-box;top: 0;bottom: 0;left: 50%;z-index: 0;}#sk-container-id-1 div.sk-serial {display: flex;flex-direction: column;align-items: center;background-color: white;padding-right: 0.2em;padding-left: 0.2em;position: relative;}#sk-container-id-1 div.sk-item {position: relative;z-index: 1;}#sk-container-id-1 div.sk-parallel {display: flex;align-items: stretch;justify-content: center;background-color: white;position: relative;}#sk-container-id-1 div.sk-item::before, #sk-container-id-1 div.sk-parallel-item::before {content: \"\";position: absolute;border-left: 1px solid gray;box-sizing: border-box;top: 0;bottom: 0;left: 50%;z-index: -1;}#sk-container-id-1 div.sk-parallel-item {display: flex;flex-direction: column;z-index: 1;position: relative;background-color: white;}#sk-container-id-1 div.sk-parallel-item:first-child::after {align-self: flex-end;width: 50%;}#sk-container-id-1 div.sk-parallel-item:last-child::after {align-self: flex-start;width: 50%;}#sk-container-id-1 div.sk-parallel-item:only-child::after {width: 0;}#sk-container-id-1 div.sk-dashed-wrapped {border: 1px dashed gray;margin: 0 0.4em 0.5em 0.4em;box-sizing: border-box;padding-bottom: 0.4em;background-color: white;}#sk-container-id-1 div.sk-label label {font-family: monospace;font-weight: bold;display: inline-block;line-height: 1.2em;}#sk-container-id-1 div.sk-label-container {text-align: center;}#sk-container-id-1 div.sk-container {/* jupyter's `normalize.less` sets `[hidden] { display: none; }` but bootstrap.min.css set `[hidden] { display: none !important; }` so we also need the `!important` here to be able to override the default hidden behavior on the sphinx rendered scikit-learn.org. See: https://github.com/scikit-learn/scikit-learn/issues/21755 */display: inline-block !important;position: relative;}#sk-container-id-1 div.sk-text-repr-fallback {display: none;}</style><div id=\"sk-container-id-1\" class=\"sk-top-container\"><div class=\"sk-text-repr-fallback\"><pre>PCA(n_components=41)</pre><b>In a Jupyter environment, please rerun this cell to show the HTML representation or trust the notebook. <br />On GitHub, the HTML representation is unable to render, please try loading this page with nbviewer.org.</b></div><div class=\"sk-container\" hidden><div class=\"sk-item\"><div class=\"sk-estimator sk-toggleable\"><input class=\"sk-toggleable__control sk-hidden--visually\" id=\"sk-estimator-id-1\" type=\"checkbox\" checked><label for=\"sk-estimator-id-1\" class=\"sk-toggleable__label sk-toggleable__label-arrow\">PCA</label><div class=\"sk-toggleable__content\"><pre>PCA(n_components=41)</pre></div></div></div></div></div>"
     },
     "execution_count": 41,
     "metadata": {},
     "output_type": "execute_result"
    }
   ],
   "source": [
    "# 进行 PCA 降维\n",
    "pca = PCA(n_components=41)\n",
    "pca.fit(standard_train_X)"
   ]
  },
  {
   "cell_type": "code",
   "execution_count": 26,
   "metadata": {
    "ExecuteTime": {
     "end_time": "2023-12-03T01:56:52.286857300Z",
     "start_time": "2023-12-03T01:56:52.262644100Z"
    }
   },
   "outputs": [
    {
     "data": {
      "text/plain": "['D:\\\\Download\\\\zyFile\\\\Cyberthreat_Cognitive_System\\\\CTCS_Code\\\\attack_datasets\\\\NSL-KDD\\\\pca_model.m']"
     },
     "execution_count": 26,
     "metadata": {},
     "output_type": "execute_result"
    }
   ],
   "source": [
    "import joblib\n",
    "joblib.dump(pca, r'D:\\Download\\zyFile\\Cyberthreat_Cognitive_System\\CTCS_Code\\attack_datasets\\NSL-KDD\\pca_model.m')"
   ]
  },
  {
   "cell_type": "code",
   "execution_count": 42,
   "metadata": {
    "tags": [],
    "ExecuteTime": {
     "end_time": "2023-12-22T16:01:38.335595800Z",
     "start_time": "2023-12-22T16:01:38.161178800Z"
    }
   },
   "outputs": [
    {
     "name": "stdout",
     "output_type": "stream",
     "text": [
      "[1.92900974e-01 1.29485682e-01 7.04439291e-02 5.31449808e-02\n",
      " 4.85815317e-02 4.17691433e-02 3.96529926e-02 3.28079685e-02\n",
      " 2.80512201e-02 2.73051427e-02 2.64398260e-02 2.51755671e-02\n",
      " 2.50034191e-02 2.49993420e-02 2.48596994e-02 2.46763455e-02\n",
      " 2.32500385e-02 2.25602201e-02 1.92203509e-02 1.75161808e-02\n",
      " 1.55146912e-02 1.50089410e-02 1.22424414e-02 1.11758835e-02\n",
      " 1.03959990e-02 8.92111257e-03 7.85233782e-03 5.90036869e-03\n",
      " 3.48647746e-03 3.29727876e-03 2.46079181e-03 1.64211863e-03\n",
      " 1.22207487e-03 1.08234470e-03 7.21889664e-04 5.30475917e-04\n",
      " 3.59285624e-04 2.25140197e-04 1.02027978e-04 1.37640849e-05\n",
      " 1.10702605e-33]\n"
     ]
    },
    {
     "data": {
      "text/plain": "(22568, 41)"
     },
     "execution_count": 42,
     "metadata": {},
     "output_type": "execute_result"
    }
   ],
   "source": [
    "print(pca.explained_variance_ratio_)\n",
    "new_X = pca.fit_transform(standard_train_X)\n",
    "new_test_X = pca.transform(standard_test_X)\n",
    "np.shape(new_test_X)"
   ]
  },
  {
   "cell_type": "code",
   "execution_count": 43,
   "metadata": {
    "ExecuteTime": {
     "end_time": "2023-12-22T16:01:40.807133300Z",
     "start_time": "2023-12-22T16:01:40.759852500Z"
    }
   },
   "outputs": [
    {
     "name": "stdout",
     "output_type": "stream",
     "text": [
      "17\n"
     ]
    }
   ],
   "source": [
    "length_variance_contribute = np.size(pca.explained_variance_ratio_)\n",
    "contribute = 0\n",
    "index = 0\n",
    "for i in range(length_variance_contribute):\n",
    "    contribute += pca.explained_variance_ratio_[i]\n",
    "    if contribute >= 0.85:\n",
    "        index = i\n",
    "        break\n",
    "print(index)"
   ]
  },
  {
   "cell_type": "code",
   "execution_count": 44,
   "metadata": {
    "ExecuteTime": {
     "end_time": "2023-12-22T16:01:42.979350200Z",
     "start_time": "2023-12-22T16:01:42.947248100Z"
    }
   },
   "outputs": [
    {
     "data": {
      "text/plain": "(125972, 17)"
     },
     "execution_count": 44,
     "metadata": {},
     "output_type": "execute_result"
    }
   ],
   "source": [
    "# 产生新的特征\n",
    "new_X = new_X[:, 0:index]\n",
    "new_test_X = new_test_X[:, 0:index]\n",
    "np.shape(new_X)"
   ]
  },
  {
   "cell_type": "code",
   "execution_count": 45,
   "outputs": [
    {
     "data": {
      "text/plain": "array([[ 2.97631445e+00,  5.46864709e+00, -1.15767407e-01, ...,\n        -2.44276327e-01, -7.93623338e-03,  2.30596730e-01],\n       [-1.63877123e+00, -5.61075507e-02, -7.54518340e-02, ...,\n        -1.09384765e-01,  3.60594671e-02, -4.68429776e-01],\n       [-3.02345342e+00,  2.37499785e-01, -1.45054134e-01, ...,\n        -5.13718717e-01,  4.79412566e-02,  3.93332175e-01],\n       ...,\n       [-5.21076559e-01,  1.32750752e-02,  8.86813407e-02, ...,\n        -3.80723543e-01, -5.38118216e-03,  2.24478539e-01],\n       [-6.67341755e-01,  5.47828997e-03,  1.36375066e-01, ...,\n        -4.06707143e-01, -2.67036096e-02,  2.12633645e-01],\n       [ 4.72302817e+00,  6.61045617e+00, -2.00788861e-01, ...,\n         9.90500450e-01,  2.33794535e-01,  1.24190225e+00]])"
     },
     "execution_count": 45,
     "metadata": {},
     "output_type": "execute_result"
    }
   ],
   "source": [
    "new_test_X"
   ],
   "metadata": {
    "collapsed": false,
    "ExecuteTime": {
     "end_time": "2023-12-22T16:01:44.271159400Z",
     "start_time": "2023-12-22T16:01:44.239837400Z"
    }
   }
  },
  {
   "cell_type": "code",
   "execution_count": 46,
   "metadata": {
    "ExecuteTime": {
     "end_time": "2023-12-22T16:01:46.657731800Z",
     "start_time": "2023-12-22T16:01:46.642098700Z"
    }
   },
   "outputs": [
    {
     "data": {
      "text/plain": "(22568, 17)"
     },
     "execution_count": 46,
     "metadata": {},
     "output_type": "execute_result"
    }
   ],
   "source": [
    "new_test_X.shape"
   ]
  },
  {
   "cell_type": "code",
   "execution_count": 47,
   "metadata": {
    "ExecuteTime": {
     "end_time": "2023-12-22T16:02:21.410203100Z",
     "start_time": "2023-12-22T16:01:48.816531400Z"
    }
   },
   "outputs": [
    {
     "name": "stdout",
     "output_type": "stream",
     "text": [
      "对降维后的数据进行训练用时为17.420872449874878\n",
      "score is 0.9658657917019475\n"
     ]
    }
   ],
   "source": [
    "from sklearn.svm import SVC\n",
    "from sklearn.model_selection import GridSearchCV, train_test_split\n",
    "import time\n",
    "\n",
    "x_train, x_test, y_train, y_test = train_test_split(new_X, labels_train, test_size=0.3)\n",
    "\n",
    "# clf = joblib.load('./model/IDS_model_8-0.m')\n",
    "# if clf == None:\n",
    "svc = SVC(kernel='rbf', class_weight='balanced', C=0.5)\n",
    "#     c_range = np.logspace(-5, 15, 11, base=2)\n",
    "#     gamma_range = np.logspace(-9, 3, 13, base=2)\n",
    "#     param_grid = [{'kernel': ['rbf'], 'C': c_range, 'gamma': gamma_range}]\n",
    "#     grid = GridSearchCV(svc, param_grid, cv=3, n_jobs=-1)\n",
    "start = time.time()\n",
    "clf = svc.fit(x_train, y_train)\n",
    "print('对降维后的数据进行训练用时为{0}'.format(time.time() - start))\n",
    "score = clf.score(x_test, y_test)\n",
    "print(f'score is {score}')\n",
    "#保存模型\n",
    "#     joblib.dump(clf, './model/IDS_model_8-0.m')\n",
    "#     print('save done')"
   ]
  },
  {
   "cell_type": "code",
   "execution_count": 48,
   "outputs": [
    {
     "data": {
      "text/plain": "<Figure size 1000x700 with 2 Axes>",
      "image/png": "[encoded data removed]"
     },
     "metadata": {},
     "output_type": "display_data"
    }
   ],
   "source": [
    "import matplotlib.pyplot as plt\n",
    "from sklearn.metrics import confusion_matrix\n",
    "import seaborn as sns\n",
    "\n",
    "# 使用测试集进行预测\n",
    "y_pred = clf.predict(x_test)\n",
    "\n",
    "# 生成混淆矩阵\n",
    "conf_matrix = confusion_matrix(y_test, y_pred)\n",
    "\n",
    "# 可视化混淆矩阵\n",
    "plt.figure(figsize=(10, 7))\n",
    "sns.heatmap(conf_matrix, annot=True, fmt='d', cmap='Blues')\n",
    "plt.xlabel('Predicted')\n",
    "plt.ylabel('True')\n",
    "plt.title('Confusion Matrix')\n",
    "plt.show()"
   ],
   "metadata": {
    "collapsed": false,
    "ExecuteTime": {
     "end_time": "2023-12-22T16:02:39.837275200Z",
     "start_time": "2023-12-22T16:02:24.266501Z"
    }
   }
  },
  {
   "cell_type": "code",
   "execution_count": 63,
   "outputs": [
    {
     "name": "stderr",
     "output_type": "stream",
     "text": [
      "C:\\Users\\23076\\anaconda3\\envs\\tensorflow\\lib\\site-packages\\sklearn\\model_selection\\_split.py:737: UserWarning: The least populated class in y has only 2 members, which is less than n_splits=3.\n",
      "  warnings.warn(\n"
     ]
    },
    {
     "data": {
      "text/plain": "<Figure size 1000x600 with 1 Axes>",
      "image/png": "[encoded data removed]"
     },
     "metadata": {},
     "output_type": "display_data"
    }
   ],
   "source": [
    "from sklearn.model_selection import validation_curve\n",
    "\n",
    "# 设置要测试的参数范围\n",
    "param_range = np.logspace(-3, 3, 5)\n",
    "\n",
    "# 计算验证曲线\n",
    "train_scores, test_scores = validation_curve(\n",
    "    SVC(), x_train, y_train, param_name=\"C\", param_range=param_range,\n",
    "    cv=3, scoring=\"accuracy\", n_jobs=-1)\n",
    "\n",
    "# 计算得分的平均值和标准差\n",
    "train_scores_mean = np.mean(train_scores, axis=1)\n",
    "train_scores_std = np.std(train_scores, axis=1)\n",
    "test_scores_mean = np.mean(test_scores, axis=1)\n",
    "test_scores_std = np.std(test_scores, axis=1)\n",
    "\n",
    "# 绘制验证曲线\n",
    "plt.figure(figsize=(10, 6))\n",
    "plt.semilogx(param_range, train_scores_mean, label=\"Training score\",\n",
    "             color=\"darkorange\", lw=2)\n",
    "plt.fill_between(param_range, train_scores_mean - train_scores_std,\n",
    "                 train_scores_mean + train_scores_std, alpha=0.2,\n",
    "                 color=\"darkorange\", lw=2)\n",
    "plt.semilogx(param_range, test_scores_mean, label=\"Cross-validation score\",\n",
    "             color=\"navy\", lw=2)\n",
    "plt.fill_between(param_range, test_scores_mean - test_scores_std,\n",
    "                 test_scores_mean + test_scores_std, alpha=0.2,\n",
    "                 color=\"navy\", lw=2)\n",
    "plt.title(\"Validation Curve with SVM\")\n",
    "plt.xlabel(\"C\")\n",
    "plt.ylabel(\"Score\")\n",
    "plt.legend(loc=\"best\")\n",
    "plt.show()"
   ],
   "metadata": {
    "collapsed": false,
    "ExecuteTime": {
     "end_time": "2023-12-16T16:51:56.419130500Z",
     "start_time": "2023-12-16T16:49:40.207528Z"
    }
   }
  },
  {
   "cell_type": "code",
   "execution_count": 64,
   "outputs": [
    {
     "ename": "ValueError",
     "evalue": "multiclass format is not supported",
     "output_type": "error",
     "traceback": [
      "\u001B[1;31m---------------------------------------------------------------------------\u001B[0m",
      "\u001B[1;31mValueError\u001B[0m                                Traceback (most recent call last)",
      "Cell \u001B[1;32mIn[64], line 5\u001B[0m\n\u001B[0;32m      2\u001B[0m \u001B[38;5;28;01mimport\u001B[39;00m \u001B[38;5;21;01mmatplotlib\u001B[39;00m\u001B[38;5;21;01m.\u001B[39;00m\u001B[38;5;21;01mpyplot\u001B[39;00m \u001B[38;5;28;01mas\u001B[39;00m \u001B[38;5;21;01mplt\u001B[39;00m\n\u001B[0;32m      4\u001B[0m \u001B[38;5;66;03m# 计算FPR, TPR, 和阈值\u001B[39;00m\n\u001B[1;32m----> 5\u001B[0m fpr, tpr, thresholds \u001B[38;5;241m=\u001B[39m \u001B[43mroc_curve\u001B[49m\u001B[43m(\u001B[49m\u001B[43my_test\u001B[49m\u001B[43m,\u001B[49m\u001B[43m \u001B[49m\u001B[43mclf\u001B[49m\u001B[38;5;241;43m.\u001B[39;49m\u001B[43mdecision_function\u001B[49m\u001B[43m(\u001B[49m\u001B[43mx_test\u001B[49m\u001B[43m)\u001B[49m\u001B[43m)\u001B[49m\n\u001B[0;32m      7\u001B[0m \u001B[38;5;66;03m# 计算曲线下面积（AUC）\u001B[39;00m\n\u001B[0;32m      8\u001B[0m roc_auc \u001B[38;5;241m=\u001B[39m auc(fpr, tpr)\n",
      "File \u001B[1;32m~\\anaconda3\\envs\\tensorflow\\lib\\site-packages\\sklearn\\utils\\_param_validation.py:214\u001B[0m, in \u001B[0;36mvalidate_params.<locals>.decorator.<locals>.wrapper\u001B[1;34m(*args, **kwargs)\u001B[0m\n\u001B[0;32m    208\u001B[0m \u001B[38;5;28;01mtry\u001B[39;00m:\n\u001B[0;32m    209\u001B[0m     \u001B[38;5;28;01mwith\u001B[39;00m config_context(\n\u001B[0;32m    210\u001B[0m         skip_parameter_validation\u001B[38;5;241m=\u001B[39m(\n\u001B[0;32m    211\u001B[0m             prefer_skip_nested_validation \u001B[38;5;129;01mor\u001B[39;00m global_skip_validation\n\u001B[0;32m    212\u001B[0m         )\n\u001B[0;32m    213\u001B[0m     ):\n\u001B[1;32m--> 214\u001B[0m         \u001B[38;5;28;01mreturn\u001B[39;00m func(\u001B[38;5;241m*\u001B[39margs, \u001B[38;5;241m*\u001B[39m\u001B[38;5;241m*\u001B[39mkwargs)\n\u001B[0;32m    215\u001B[0m \u001B[38;5;28;01mexcept\u001B[39;00m InvalidParameterError \u001B[38;5;28;01mas\u001B[39;00m e:\n\u001B[0;32m    216\u001B[0m     \u001B[38;5;66;03m# When the function is just a wrapper around an estimator, we allow\u001B[39;00m\n\u001B[0;32m    217\u001B[0m     \u001B[38;5;66;03m# the function to delegate validation to the estimator, but we replace\u001B[39;00m\n\u001B[0;32m    218\u001B[0m     \u001B[38;5;66;03m# the name of the estimator by the name of the function in the error\u001B[39;00m\n\u001B[0;32m    219\u001B[0m     \u001B[38;5;66;03m# message to avoid confusion.\u001B[39;00m\n\u001B[0;32m    220\u001B[0m     msg \u001B[38;5;241m=\u001B[39m re\u001B[38;5;241m.\u001B[39msub(\n\u001B[0;32m    221\u001B[0m         \u001B[38;5;124mr\u001B[39m\u001B[38;5;124m\"\u001B[39m\u001B[38;5;124mparameter of \u001B[39m\u001B[38;5;124m\\\u001B[39m\u001B[38;5;124mw+ must be\u001B[39m\u001B[38;5;124m\"\u001B[39m,\n\u001B[0;32m    222\u001B[0m         \u001B[38;5;124mf\u001B[39m\u001B[38;5;124m\"\u001B[39m\u001B[38;5;124mparameter of \u001B[39m\u001B[38;5;132;01m{\u001B[39;00mfunc\u001B[38;5;241m.\u001B[39m\u001B[38;5;18m__qualname__\u001B[39m\u001B[38;5;132;01m}\u001B[39;00m\u001B[38;5;124m must be\u001B[39m\u001B[38;5;124m\"\u001B[39m,\n\u001B[0;32m    223\u001B[0m         \u001B[38;5;28mstr\u001B[39m(e),\n\u001B[0;32m    224\u001B[0m     )\n",
      "File \u001B[1;32m~\\anaconda3\\envs\\tensorflow\\lib\\site-packages\\sklearn\\metrics\\_ranking.py:1095\u001B[0m, in \u001B[0;36mroc_curve\u001B[1;34m(y_true, y_score, pos_label, sample_weight, drop_intermediate)\u001B[0m\n\u001B[0;32m    993\u001B[0m \u001B[38;5;129m@validate_params\u001B[39m(\n\u001B[0;32m    994\u001B[0m     {\n\u001B[0;32m    995\u001B[0m         \u001B[38;5;124m\"\u001B[39m\u001B[38;5;124my_true\u001B[39m\u001B[38;5;124m\"\u001B[39m: [\u001B[38;5;124m\"\u001B[39m\u001B[38;5;124marray-like\u001B[39m\u001B[38;5;124m\"\u001B[39m],\n\u001B[1;32m   (...)\u001B[0m\n\u001B[0;32m   1004\u001B[0m     y_true, y_score, \u001B[38;5;241m*\u001B[39m, pos_label\u001B[38;5;241m=\u001B[39m\u001B[38;5;28;01mNone\u001B[39;00m, sample_weight\u001B[38;5;241m=\u001B[39m\u001B[38;5;28;01mNone\u001B[39;00m, drop_intermediate\u001B[38;5;241m=\u001B[39m\u001B[38;5;28;01mTrue\u001B[39;00m\n\u001B[0;32m   1005\u001B[0m ):\n\u001B[0;32m   1006\u001B[0m \u001B[38;5;250m    \u001B[39m\u001B[38;5;124;03m\"\"\"Compute Receiver operating characteristic (ROC).\u001B[39;00m\n\u001B[0;32m   1007\u001B[0m \n\u001B[0;32m   1008\u001B[0m \u001B[38;5;124;03m    Note: this implementation is restricted to the binary classification task.\u001B[39;00m\n\u001B[1;32m   (...)\u001B[0m\n\u001B[0;32m   1093\u001B[0m \u001B[38;5;124;03m    array([ inf, 0.8 , 0.4 , 0.35, 0.1 ])\u001B[39;00m\n\u001B[0;32m   1094\u001B[0m \u001B[38;5;124;03m    \"\"\"\u001B[39;00m\n\u001B[1;32m-> 1095\u001B[0m     fps, tps, thresholds \u001B[38;5;241m=\u001B[39m \u001B[43m_binary_clf_curve\u001B[49m\u001B[43m(\u001B[49m\n\u001B[0;32m   1096\u001B[0m \u001B[43m        \u001B[49m\u001B[43my_true\u001B[49m\u001B[43m,\u001B[49m\u001B[43m \u001B[49m\u001B[43my_score\u001B[49m\u001B[43m,\u001B[49m\u001B[43m \u001B[49m\u001B[43mpos_label\u001B[49m\u001B[38;5;241;43m=\u001B[39;49m\u001B[43mpos_label\u001B[49m\u001B[43m,\u001B[49m\u001B[43m \u001B[49m\u001B[43msample_weight\u001B[49m\u001B[38;5;241;43m=\u001B[39;49m\u001B[43msample_weight\u001B[49m\n\u001B[0;32m   1097\u001B[0m \u001B[43m    \u001B[49m\u001B[43m)\u001B[49m\n\u001B[0;32m   1099\u001B[0m     \u001B[38;5;66;03m# Attempt to drop thresholds corresponding to points in between and\u001B[39;00m\n\u001B[0;32m   1100\u001B[0m     \u001B[38;5;66;03m# collinear with other points. These are always suboptimal and do not\u001B[39;00m\n\u001B[0;32m   1101\u001B[0m     \u001B[38;5;66;03m# appear on a plotted ROC curve (and thus do not affect the AUC).\u001B[39;00m\n\u001B[1;32m   (...)\u001B[0m\n\u001B[0;32m   1106\u001B[0m     \u001B[38;5;66;03m# but does not drop more complicated cases like fps = [1, 3, 7],\u001B[39;00m\n\u001B[0;32m   1107\u001B[0m     \u001B[38;5;66;03m# tps = [1, 2, 4]; there is no harm in keeping too many thresholds.\u001B[39;00m\n\u001B[0;32m   1108\u001B[0m     \u001B[38;5;28;01mif\u001B[39;00m drop_intermediate \u001B[38;5;129;01mand\u001B[39;00m \u001B[38;5;28mlen\u001B[39m(fps) \u001B[38;5;241m>\u001B[39m \u001B[38;5;241m2\u001B[39m:\n",
      "File \u001B[1;32m~\\anaconda3\\envs\\tensorflow\\lib\\site-packages\\sklearn\\metrics\\_ranking.py:804\u001B[0m, in \u001B[0;36m_binary_clf_curve\u001B[1;34m(y_true, y_score, pos_label, sample_weight)\u001B[0m\n\u001B[0;32m    802\u001B[0m y_type \u001B[38;5;241m=\u001B[39m type_of_target(y_true, input_name\u001B[38;5;241m=\u001B[39m\u001B[38;5;124m\"\u001B[39m\u001B[38;5;124my_true\u001B[39m\u001B[38;5;124m\"\u001B[39m)\n\u001B[0;32m    803\u001B[0m \u001B[38;5;28;01mif\u001B[39;00m \u001B[38;5;129;01mnot\u001B[39;00m (y_type \u001B[38;5;241m==\u001B[39m \u001B[38;5;124m\"\u001B[39m\u001B[38;5;124mbinary\u001B[39m\u001B[38;5;124m\"\u001B[39m \u001B[38;5;129;01mor\u001B[39;00m (y_type \u001B[38;5;241m==\u001B[39m \u001B[38;5;124m\"\u001B[39m\u001B[38;5;124mmulticlass\u001B[39m\u001B[38;5;124m\"\u001B[39m \u001B[38;5;129;01mand\u001B[39;00m pos_label \u001B[38;5;129;01mis\u001B[39;00m \u001B[38;5;129;01mnot\u001B[39;00m \u001B[38;5;28;01mNone\u001B[39;00m)):\n\u001B[1;32m--> 804\u001B[0m     \u001B[38;5;28;01mraise\u001B[39;00m \u001B[38;5;167;01mValueError\u001B[39;00m(\u001B[38;5;124m\"\u001B[39m\u001B[38;5;132;01m{0}\u001B[39;00m\u001B[38;5;124m format is not supported\u001B[39m\u001B[38;5;124m\"\u001B[39m\u001B[38;5;241m.\u001B[39mformat(y_type))\n\u001B[0;32m    806\u001B[0m check_consistent_length(y_true, y_score, sample_weight)\n\u001B[0;32m    807\u001B[0m y_true \u001B[38;5;241m=\u001B[39m column_or_1d(y_true)\n",
      "\u001B[1;31mValueError\u001B[0m: multiclass format is not supported"
     ]
    }
   ],
   "source": [
    "from sklearn.metrics import roc_curve, auc\n",
    "import matplotlib.pyplot as plt\n",
    "\n",
    "# 计算FPR, TPR, 和阈值\n",
    "fpr, tpr, thresholds = roc_curve(y_test, clf.decision_function(x_test))\n",
    "\n",
    "# 计算曲线下面积（AUC）\n",
    "roc_auc = auc(fpr, tpr)\n",
    "\n",
    "# 绘制ROC曲线\n",
    "plt.figure(figsize=(8, 6))\n",
    "plt.plot(fpr, tpr, color='darkorange', lw=2, label='ROC curve (area = %0.2f)' % roc_auc)\n",
    "plt.plot([0, 1], [0, 1], color='navy', lw=2, linestyle='--')\n",
    "plt.xlabel('False Positive Rate')\n",
    "plt.ylabel('True Positive Rate')\n",
    "plt.title('Receiver Operating Characteristic')\n",
    "plt.legend(loc=\"lower right\")\n",
    "plt.show()\n"
   ],
   "metadata": {
    "collapsed": false,
    "ExecuteTime": {
     "end_time": "2023-12-16T16:53:24.729418200Z",
     "start_time": "2023-12-16T16:52:50.525103700Z"
    }
   }
  },
  {
   "cell_type": "code",
   "execution_count": null,
   "outputs": [],
   "source": [
    "from sklearn.metrics import precision_recall_curve, average_precision_score\n",
    "\n",
    "# 计算精确度和召回率\n",
    "precision, recall, _ = precision_recall_curve(y_test, clf.decision_function(x_test))\n",
    "\n",
    "# 计算平均精确度\n",
    "average_precision = average_precision_score(y_test, clf.decision_function(x_test))\n",
    "\n",
    "# 绘制PR曲线\n",
    "plt.figure(figsize=(8, 6))\n",
    "plt.step(recall, precision, color='b', alpha=0.2, where='post')\n",
    "plt.fill_between(recall, precision, step='post', alpha=0.2, color='b')\n",
    "plt.xlabel('Recall')\n",
    "plt.ylabel('Precision')\n",
    "plt.title('Precision-Recall curve: AP={0:0.2f}'.format(average_precision))\n",
    "plt.show()"
   ],
   "metadata": {
    "collapsed": false,
    "ExecuteTime": {
     "start_time": "2023-12-16T16:53:24.729418200Z"
    }
   }
  },
  {
   "cell_type": "code",
   "execution_count": 58,
   "metadata": {
    "ExecuteTime": {
     "end_time": "2023-12-02T17:56:39.859783100Z",
     "start_time": "2023-12-02T17:56:39.833655600Z"
    }
   },
   "outputs": [],
   "source": [
    "def evaluate(Y, labels_test, evaluate_method=1):\n",
    "    acc = 0\n",
    "    TP = 0\n",
    "    FN = 0\n",
    "    FP = 0\n",
    "    TN = 0\n",
    "    if evaluate_method == 1:\n",
    "        for predict_y, real_y in zip(Y, labels_test):\n",
    "            if predict_y == 12 and real_y == 'normal':\n",
    "                acc += 1\n",
    "            if predict_y != 12 and real_y != 'normal':\n",
    "                acc += 1\n",
    "            if predict_y == 12 and real_y != 'normal':\n",
    "                FN += 1\n",
    "            if real_y == 'normal' and predict_y != 12:\n",
    "                FP += 1\n",
    "            if predict_y != 12 and real_y != 'normal':\n",
    "                TP += 1\n",
    "            if predict_y == 12 and real_y == 'normal':\n",
    "                TN += 1\n",
    "    elif evaluate_method == 2:\n",
    "        for predict_y, real_y in zip(Y, labels_test):\n",
    "            if predict_y == 12 and real_y == 12:\n",
    "                acc += 1\n",
    "            if predict_y != 12 and real_y != 12:\n",
    "                acc += 1\n",
    "            if predict_y == 12 and real_y != 12:\n",
    "                FN += 1\n",
    "            if real_y == 12 and predict_y != 12:\n",
    "                FP += 1\n",
    "            if predict_y != 12 and real_y != 12:\n",
    "                TP += 1\n",
    "            if predict_y == 12 and real_y == 12:\n",
    "                TN += 1\n",
    "\n",
    "    precent_acc = acc / len(labels_test)\n",
    "    print(TP, FN)\n",
    "    print(FP, TN)\n",
    "    TPR = TP / (TP + FN)\n",
    "    FPR = FP / (FP + TN)\n",
    "    print('acc radio %s ' % precent_acc)\n",
    "    print('TPR is %s' % TPR)\n",
    "    print('FPR is %s' % FPR)"
   ]
  },
  {
   "cell_type": "code",
   "execution_count": 59,
   "metadata": {
    "ExecuteTime": {
     "end_time": "2023-12-02T17:57:02.051190200Z",
     "start_time": "2023-12-02T17:56:42.161799Z"
    }
   },
   "outputs": [
    {
     "name": "stdout",
     "output_type": "stream",
     "text": [
      "10321 2518\n",
      "906 8823\n",
      "acc radio 0.8482807515065579 \n",
      "TPR is 0.8038788067606512\n",
      "FPR is 0.0931236509404872\n"
     ]
    }
   ],
   "source": [
    "# 对 NSL-KDD-test_set 进行模型评估\n",
    "Y = clf.predict(new_test_X)\n",
    "evaluate(Y, labels_test)"
   ]
  },
  {
   "cell_type": "code",
   "execution_count": 60,
   "metadata": {
    "ExecuteTime": {
     "end_time": "2023-12-02T17:57:34.893905700Z",
     "start_time": "2023-12-02T17:57:02.048652200Z"
    }
   },
   "outputs": [
    {
     "name": "stdout",
     "output_type": "stream",
     "text": [
      "17448 56\n",
      "1988 18300\n",
      "acc radio 0.9459144792548687 \n",
      "TPR is 0.996800731261426\n",
      "FPR is 0.09798895899053628\n"
     ]
    }
   ],
   "source": [
    "# 对 NSL-KDD-30%-train_set 进行模型评估\n",
    "Y = clf.predict(x_test)\n",
    "evaluate(Y, y_test, evaluate_method=2)"
   ]
  },
  {
   "cell_type": "code",
   "execution_count": 61,
   "metadata": {
    "ExecuteTime": {
     "end_time": "2023-12-02T17:57:34.937554800Z",
     "start_time": "2023-12-02T17:57:34.893905700Z"
    }
   },
   "outputs": [],
   "source": [
    "all_labels = {'DOS': ['back', 'neptune', 'smurf', 'teardrop', 'land', 'pod', 'apache2', 'mailbomd', 'processtable'],\n",
    "              'Probe': ['satan', 'portsweep', 'ipsweep', 'nmap', 'mscan', 'saint'],\n",
    "              'R2L': ['warezmaster', 'ftp_write', 'guess_passwd', 'imap', 'multihop', 'phf', 'spy', 'warezclient',\n",
    "                      'sendmail', 'named', 'snmpgetattack', 'snmpguess', 'xlock', 'xsnoop', 'worm'],\n",
    "              'U2R': ['rootkit', 'buffer_overflow', 'loadmodule', 'perl', 'httptunnel', 'ps', 'sqlattack', 'xterm'],\n",
    "              'NORMAL': ['normal']}"
   ]
  },
  {
   "cell_type": "code",
   "execution_count": 62,
   "metadata": {
    "ExecuteTime": {
     "end_time": "2023-12-02T17:57:34.938562900Z",
     "start_time": "2023-12-02T17:57:34.909743100Z"
    }
   },
   "outputs": [
    {
     "data": {
      "text/plain": "dict_keys(['DOS', 'Probe', 'R2L', 'U2R', 'NORMAL'])"
     },
     "execution_count": 62,
     "metadata": {},
     "output_type": "execute_result"
    }
   ],
   "source": [
    "types_attack = all_labels.keys()\n",
    "types_attack"
   ]
  },
  {
   "cell_type": "code",
   "execution_count": null,
   "outputs": [],
   "source": [],
   "metadata": {
    "collapsed": false
   }
  }
 ],
 "metadata": {
  "kernelspec": {
   "name": "tensorflow",
   "language": "python",
   "display_name": "TensorflowPy3.9.16"
  },
  "language_info": {
   "codemirror_mode": {
    "name": "ipython",
    "version": 3
   },
   "file_extension": ".py",
   "mimetype": "text/x-python",
   "name": "python",
   "nbconvert_exporter": "python",
   "pygments_lexer": "ipython3",
   "version": "3.6.5"
  }
 },
 "nbformat": 4,
 "nbformat_minor": 4
}
